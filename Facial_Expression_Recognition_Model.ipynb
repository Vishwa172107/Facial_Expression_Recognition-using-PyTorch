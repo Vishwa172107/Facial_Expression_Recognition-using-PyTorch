{
  "cells": [
    {
      "cell_type": "markdown",
      "metadata": {
        "id": "view-in-github",
        "colab_type": "text"
      },
      "source": [
        "<a href=\"https://colab.research.google.com/github/Vishwa172107/Facial_Expression_Recognition-using-PyTorch/blob/main/Facial_Expression_Recognition_Model.ipynb\" target=\"_parent\"><img src=\"https://colab.research.google.com/assets/colab-badge.svg\" alt=\"Open In Colab\"/></a>"
      ]
    },
    {
      "cell_type": "markdown",
      "metadata": {
        "id": "lWSYvZAtv67K"
      },
      "source": [
        "\n",
        "# **1. Start by getting some data:**\n",
        "\n",
        "We can use this code to import a dataset from Kaggle\n"
      ]
    },
    {
      "cell_type": "code",
      "execution_count": 1,
      "metadata": {
        "colab": {
          "base_uri": "https://localhost:8080/"
        },
        "id": "2Z3ORnO6glCq",
        "outputId": "0aa9c6e2-30a5-42a1-c017-93b2c2174f70"
      },
      "outputs": [
        {
          "metadata": {
            "tags": null
          },
          "name": "stdout",
          "output_type": "stream",
          "text": [
            "Requirement already satisfied: kaggle in /usr/local/lib/python3.10/dist-packages (1.6.17)\n",
            "Requirement already satisfied: six>=1.10 in /usr/local/lib/python3.10/dist-packages (from kaggle) (1.16.0)\n",
            "Requirement already satisfied: certifi>=2023.7.22 in /usr/local/lib/python3.10/dist-packages (from kaggle) (2024.7.4)\n",
            "Requirement already satisfied: python-dateutil in /usr/local/lib/python3.10/dist-packages (from kaggle) (2.8.2)\n",
            "Requirement already satisfied: requests in /usr/local/lib/python3.10/dist-packages (from kaggle) (2.31.0)\n",
            "Requirement already satisfied: tqdm in /usr/local/lib/python3.10/dist-packages (from kaggle) (4.66.4)\n",
            "Requirement already satisfied: python-slugify in /usr/local/lib/python3.10/dist-packages (from kaggle) (8.0.4)\n",
            "Requirement already satisfied: urllib3 in /usr/local/lib/python3.10/dist-packages (from kaggle) (2.0.7)\n",
            "Requirement already satisfied: bleach in /usr/local/lib/python3.10/dist-packages (from kaggle) (6.1.0)\n",
            "Requirement already satisfied: webencodings in /usr/local/lib/python3.10/dist-packages (from bleach->kaggle) (0.5.1)\n",
            "Requirement already satisfied: text-unidecode>=1.3 in /usr/local/lib/python3.10/dist-packages (from python-slugify->kaggle) (1.3)\n",
            "Requirement already satisfied: charset-normalizer<4,>=2 in /usr/local/lib/python3.10/dist-packages (from requests->kaggle) (3.3.2)\n",
            "Requirement already satisfied: idna<4,>=2.5 in /usr/local/lib/python3.10/dist-packages (from requests->kaggle) (3.7)\n",
            "mkdir: cannot create directory ‘/root/.kaggle’: File exists\n",
            "Dataset URL: https://www.kaggle.com/datasets/mahmoudima/mma-facial-expression\n",
            "License(s): unknown\n",
            "mma-facial-expression.zip: Skipping, found more recently modified local copy (use --force to force download)\n",
            "Archive:  mma-facial-expression.zip\n",
            "replace MMAFEDB/test/angry/10Exp0angry_actor_150.jpg? [y]es, [n]o, [A]ll, [N]one, [r]ename: "
          ]
        }
      ],
      "source": [
        "#this code is to import the dataset from the Kaggle website\n",
        "! pip install kaggle\n",
        "! mkdir ~/.kaggle\n",
        "! cp kaggle.json ~/.kaggle/\n",
        "! chmod 600 ~/.kaggle/kaggle.json\n",
        "! kaggle datasets download mahmoudima/mma-facial-expression\n",
        "!unzip mma-facial-expression.zip"
      ]
    },
    {
      "cell_type": "code",
      "execution_count": 2,
      "metadata": {
        "id": "VCSBQPHNzVs5"
      },
      "outputs": [],
      "source": [
        "import torch\n",
        "from torchvision import datasets, transforms\n",
        "from torch.utils.data import DataLoader\n",
        "import torch.nn as nn\n",
        "import matplotlib.pyplot as plt"
      ]
    },
    {
      "cell_type": "code",
      "execution_count": 3,
      "metadata": {
        "id": "cHpKeePbzVs8",
        "colab": {
          "base_uri": "https://localhost:8080/",
          "height": 35
        },
        "outputId": "f2ae8f8b-edd1-4243-ca13-c137c890aaf7"
      },
      "outputs": [
        {
          "output_type": "execute_result",
          "data": {
            "text/plain": [
              "'cpu'"
            ],
            "application/vnd.google.colaboratory.intrinsic+json": {
              "type": "string"
            }
          },
          "metadata": {},
          "execution_count": 3
        }
      ],
      "source": [
        "#transform for the data... You can also change the size of images using resize\n",
        "#but then we have to change the parameters for our model\n",
        "transform = transforms.Compose([\n",
        "    transforms.ToTensor(),           # Convert images to tensors\n",
        "    transforms.Normalize(mean=[0.485, 0.456, 0.406],  # Normalize image data\n",
        "                         std=[0.229, 0.224, 0.225])\n",
        "])\n",
        "#setup device agnostic code...\n",
        "#This sets the device to \"cuda\" if a GPU is available\n",
        "device = \"cuda\" if torch.cuda.is_available() else \"cpu\"\n",
        "device"
      ]
    },
    {
      "cell_type": "code",
      "execution_count": 4,
      "metadata": {
        "id": "LL3mUtKEzVs9"
      },
      "outputs": [],
      "source": [
        "dataset = datasets.ImageFolder('/content/MMAFEDB/train', transform=transform)"
      ]
    },
    {
      "cell_type": "code",
      "execution_count": 5,
      "metadata": {
        "id": "YA1yZfmczVtB"
      },
      "outputs": [],
      "source": [
        "dataloader = DataLoader(dataset, batch_size=32, shuffle=True)"
      ]
    },
    {
      "cell_type": "code",
      "execution_count": 6,
      "metadata": {
        "id": "IJ116TNszVtA",
        "colab": {
          "base_uri": "https://localhost:8080/"
        },
        "outputId": "89b61f9e-e0b8-49f3-97dd-c3cba245e638"
      },
      "outputs": [
        {
          "output_type": "execute_result",
          "data": {
            "text/plain": [
              "['angry', 'disgust', 'fear', 'happy', 'neutral', 'sad', 'surprise']"
            ]
          },
          "metadata": {},
          "execution_count": 6
        }
      ],
      "source": [
        "#The ground truth labels in our dataset\n",
        "dataset.classes"
      ]
    },
    {
      "cell_type": "code",
      "execution_count": 7,
      "metadata": {
        "id": "mpt461w8zVtA",
        "colab": {
          "base_uri": "https://localhost:8080/"
        },
        "outputId": "b5a09079-45f8-43ad-e9d5-e7c167f4dc2a"
      },
      "outputs": [
        {
          "output_type": "execute_result",
          "data": {
            "text/plain": [
              "{'angry': 0,\n",
              " 'disgust': 1,\n",
              " 'fear': 2,\n",
              " 'happy': 3,\n",
              " 'neutral': 4,\n",
              " 'sad': 5,\n",
              " 'surprise': 6}"
            ]
          },
          "metadata": {},
          "execution_count": 7
        }
      ],
      "source": [
        "#map of each class to a value\n",
        "dataset.class_to_idx"
      ]
    },
    {
      "cell_type": "code",
      "execution_count": 8,
      "metadata": {
        "id": "5GnxTaAEzVtA",
        "colab": {
          "base_uri": "https://localhost:8080/"
        },
        "outputId": "dde72fbf-879b-4cc9-fce3-05414160a36f"
      },
      "outputs": [
        {
          "metadata": {
            "tags": null
          },
          "name": "stdout",
          "output_type": "stream",
          "text": [
            "6566\n",
            "3231\n",
            "4859\n",
            "28592\n",
            "29384\n",
            "12223\n",
            "8113\n"
          ]
        }
      ],
      "source": [
        "#check how many samples we have from each class\n",
        "for i in range(7):\n",
        "    print(dataset.targets.count(i))"
      ]
    },
    {
      "cell_type": "code",
      "execution_count": 9,
      "metadata": {
        "id": "Zn8fwvM-zVs9"
      },
      "outputs": [],
      "source": [
        "#Loading the test and Validarion data\n",
        "dt = datasets.ImageFolder('/content/MMAFEDB/test', transform=transform)\n",
        "dtt = DataLoader(dt, batch_size=32, shuffle=True)\n",
        "\n",
        "valid = datasets.ImageFolder('/content/MMAFEDB/valid', transform=transform)\n",
        "validt = DataLoader(valid, batch_size=32, shuffle=True)"
      ]
    },
    {
      "cell_type": "code",
      "execution_count": 10,
      "metadata": {
        "id": "JHj102A-Vsu0",
        "colab": {
          "base_uri": "https://localhost:8080/"
        },
        "outputId": "1e1f52e3-1a40-43f3-eee7-5ede0db2ba5b"
      },
      "outputs": [
        {
          "output_type": "stream",
          "name": "stdout",
          "text": [
            "/bin/bash: line 1: nvidia-smi: command not found\n"
          ]
        }
      ],
      "source": [
        "#shows gpu that we are using... If we have one...\n",
        "!nvidia-smi"
      ]
    },
    {
      "cell_type": "code",
      "execution_count": 11,
      "metadata": {
        "id": "JoN0FqZhzVtB",
        "colab": {
          "base_uri": "https://localhost:8080/"
        },
        "outputId": "ce3abce8-48a8-4af8-a375-0c8414029afc"
      },
      "outputs": [
        {
          "output_type": "execute_result",
          "data": {
            "text/plain": [
              "torch.Size([32, 3, 48, 48])"
            ]
          },
          "metadata": {},
          "execution_count": 11
        }
      ],
      "source": [
        "for batch in dtt:\n",
        "    images, labels = batch\n",
        "    break\n",
        "images.shape"
      ]
    },
    {
      "cell_type": "code",
      "execution_count": 12,
      "metadata": {
        "id": "DjftXrUmzVtC"
      },
      "outputs": [],
      "source": [
        "class Facial_Expression_ModelV1(nn.Module):\n",
        "    def __init__(self, input_features, hidden, output_features, n):\n",
        "        super().__init__()\n",
        "        #create few Layer Stack, (they can vary in number.) and use functions to implement each layer\n",
        "        self.Stack_1 = nn.Sequential(\n",
        "            nn.Conv2d(input_features, hidden, 3, 1, 0),\n",
        "            nn.ReLU(),\n",
        "            nn.Conv2d(hidden, hidden, 3, 1, 0),\n",
        "            nn.ReLU(),\n",
        "            nn.MaxPool2d(2, 1, 0)\n",
        "        )\n",
        "        self.Stack_2 = nn.Sequential(\n",
        "            nn.Conv2d(hidden, hidden, 3, 1, 0),\n",
        "            nn.ReLU(),\n",
        "            nn.Conv2d(hidden, hidden, 3, 2, 0),\n",
        "            nn.ReLU(),\n",
        "            nn.MaxPool2d(2, 1, 0),\n",
        "            nn.Conv2d(hidden, output_features, 3, 1, 0)\n",
        "        )\n",
        "        self.Linearize = nn.Sequential(\n",
        "            nn.Flatten(),\n",
        "            nn.Linear(in_features=n, out_features=7),\n",
        "        )\n",
        "\n",
        "    #override/ Implement the forward() to implement the model\n",
        "    def forward(self, X):\n",
        "        X = self.Stack_1(X)\n",
        "        X = self.Stack_2(X)\n",
        "        X = self.Linearize(X)\n",
        "        return X"
      ]
    },
    {
      "cell_type": "code",
      "execution_count": 13,
      "metadata": {
        "id": "Km3aH_YjzVtC",
        "colab": {
          "base_uri": "https://localhost:8080/"
        },
        "outputId": "749b2583-e279-48c8-c73c-c9575a634a10"
      },
      "outputs": [
        {
          "data": {
            "text/plain": [
              "Facial_Expression_ModelV1(\n",
              "  (Stack_1): Sequential(\n",
              "    (0): Conv2d(3, 120, kernel_size=(3, 3), stride=(1, 1))\n",
              "    (1): ReLU()\n",
              "    (2): Conv2d(120, 120, kernel_size=(3, 3), stride=(1, 1))\n",
              "    (3): ReLU()\n",
              "    (4): MaxPool2d(kernel_size=2, stride=1, padding=0, dilation=1, ceil_mode=False)\n",
              "  )\n",
              "  (Stack_2): Sequential(\n",
              "    (0): Conv2d(120, 120, kernel_size=(3, 3), stride=(1, 1))\n",
              "    (1): ReLU()\n",
              "    (2): Conv2d(120, 120, kernel_size=(3, 3), stride=(2, 2))\n",
              "    (3): ReLU()\n",
              "    (4): MaxPool2d(kernel_size=2, stride=1, padding=0, dilation=1, ceil_mode=False)\n",
              "    (5): Conv2d(120, 7, kernel_size=(3, 3), stride=(1, 1))\n",
              "  )\n",
              "  (Linearize): Sequential(\n",
              "    (0): Flatten(start_dim=1, end_dim=-1)\n",
              "    (1): Linear(in_features=2023, out_features=7, bias=True)\n",
              "  )\n",
              ")"
            ]
          },
          "execution_count": 13,
          "metadata": {},
          "output_type": "execute_result"
        }
      ],
      "source": [
        "#Create the object of the class that we created and send it to device i.e. \"Device Agnostic Code\"\n",
        "#torch.manual_seed(seed) this is useful to reproduce the same weights each time we run the cell\n",
        "torch.manual_seed(43)\n",
        "\n",
        "#the parameters depend on the image size\n",
        "model_1 = Facial_Expression_ModelV1(3, 120, 7, 2023).to(device)\n",
        "\n",
        "model_1"
      ]
    },
    {
      "cell_type": "code",
      "execution_count": 14,
      "metadata": {
        "id": "lugUs1RdzVtC",
        "colab": {
          "base_uri": "https://localhost:8080/"
        },
        "outputId": "1691ab53-fe1c-43f5-e1c9-90c8ddd46d1d"
      },
      "outputs": [
        {
          "output_type": "execute_result",
          "data": {
            "text/plain": [
              "torch.Size([32, 3, 48, 48])"
            ]
          },
          "metadata": {},
          "execution_count": 14
        }
      ],
      "source": [
        "#check the shape of a Single batch of images\n",
        "images.shape"
      ]
    },
    {
      "cell_type": "code",
      "execution_count": 15,
      "metadata": {
        "id": "Iw4fMxchRs34"
      },
      "outputs": [],
      "source": [
        "#sending the data to device to avoid Device errors\n",
        "A = images.to(device)\n",
        "A.device\n",
        "labels = labels.to(device)"
      ]
    },
    {
      "cell_type": "code",
      "execution_count": 16,
      "metadata": {
        "id": "e4q_wdckzVtD",
        "colab": {
          "base_uri": "https://localhost:8080/"
        },
        "outputId": "f00efa65-2f69-4e4f-d46e-2c6e09ad637d"
      },
      "outputs": [
        {
          "data": {
            "text/plain": [
              "torch.Size([32, 6912])"
            ]
          },
          "execution_count": 16,
          "metadata": {},
          "output_type": "execute_result"
        }
      ],
      "source": [
        "#this flattens i.e. converts n-dim tansor into a 1-dim vector\n",
        "nn.Flatten()(images).shape"
      ]
    },
    {
      "cell_type": "code",
      "execution_count": 17,
      "metadata": {
        "id": "gsu_iEHwzVtD",
        "colab": {
          "base_uri": "https://localhost:8080/"
        },
        "outputId": "395bd8d4-b6bf-4d87-f54e-c1a5c10039fe"
      },
      "outputs": [
        {
          "output_type": "execute_result",
          "data": {
            "text/plain": [
              "tensor([False,  True,  True, False,  True, False, False, False, False, False,\n",
              "        False, False, False,  True,  True, False, False, False, False, False,\n",
              "        False,  True,  True,  True, False, False,  True,  True, False,  True,\n",
              "        False, False])"
            ]
          },
          "metadata": {},
          "execution_count": 17
        }
      ],
      "source": [
        "#pass a single batch to see if the model works the way we want it to\n",
        "A = model_1(A)\n",
        "A = torch.softmax(A, dim=1).argmax(dim=1)\n",
        "A==labels"
      ]
    },
    {
      "cell_type": "code",
      "execution_count": 18,
      "metadata": {
        "id": "BP4D6Lm2zVtD"
      },
      "outputs": [],
      "source": [
        "#Choose a Loss Function to check \"How wrong your Model is...\"\n",
        "loss_fn = nn.CrossEntropyLoss()\n",
        "\n",
        "#Choose a Optimizer function to update the weights after each epoch...\n",
        "#Note that setting the Learning_Rate (lr) too high could result in NaN errors\n",
        "optimizer = torch.optim.SGD(model_1.parameters(), lr=0.01)"
      ]
    },
    {
      "cell_type": "code",
      "execution_count": 19,
      "metadata": {
        "id": "BkA12nMmzVtD",
        "colab": {
          "base_uri": "https://localhost:8080/"
        },
        "outputId": "c4f09979-778e-47ff-ad6e-7dc2f5eb78a9"
      },
      "outputs": [
        {
          "output_type": "stream",
          "name": "stdout",
          "text": [
            "2906\n"
          ]
        }
      ],
      "source": [
        "print(len(dataloader))"
      ]
    },
    {
      "cell_type": "code",
      "execution_count": 20,
      "metadata": {
        "id": "3QDneKeYUfIP"
      },
      "outputs": [],
      "source": [
        "#custom function to calculate the accuracy based on the Prediction and Ground Truths\n",
        "def accuracy_fn(y_true, y_pred):\n",
        "    \"\"\"Calculates accuracy between truth labels and predictions.\n",
        "\n",
        "    Args:\n",
        "        y_true (torch.Tensor): Truth labels for predictions.\n",
        "        y_pred (torch.Tensor): Predictions to be compared to predictions.\n",
        "\n",
        "    Returns:\n",
        "        [torch.float]: Accuracy value between y_true and y_pred, e.g. 78.45\n",
        "    \"\"\"\n",
        "    correct = torch.eq(y_true, y_pred).sum().item()\n",
        "    acc = (correct / len(y_pred)) * 100\n",
        "    return acc"
      ]
    },
    {
      "cell_type": "code",
      "execution_count": 21,
      "metadata": {
        "id": "0zGAVJcizVtD"
      },
      "outputs": [],
      "source": [
        "#A function to pass a single batch of Training set images to the Neural Network Model\n",
        "def train_loop(X, y, Batch):\n",
        "    #set the model to Training mode\n",
        "    model_1.train()\n",
        "\n",
        "    #forward pass\n",
        "    preds = model_1(X)\n",
        "\n",
        "    #calculate the loss\n",
        "    loss = loss_fn(preds, y)\n",
        "    y_preds = torch.softmax(preds, dim=1).argmax(dim=1)\n",
        "    acc = accuracy_fn(y, y_preds)\n",
        "\n",
        "    #optimizer reset the Gradients\n",
        "    optimizer.zero_grad()\n",
        "\n",
        "    #BackPropogation\n",
        "    loss.backward()\n",
        "\n",
        "    #updating the weights\n",
        "    optimizer.step()\n",
        "\n",
        "    #print for every 1000th batch\n",
        "    if Batch%1000==0:\n",
        "        print(f\"Training {Batch}... Loss:{loss:.4f}, accuracy:{acc:.2f}\")\n",
        "    return (acc, loss)"
      ]
    },
    {
      "cell_type": "code",
      "execution_count": 22,
      "metadata": {
        "id": "hE2yQxyCzVtE"
      },
      "outputs": [],
      "source": [
        "#A function to pass a single batch of Validation data to check the model accuracy after each epoch of Training set\n",
        "def test_loop(X, y, Batch):\n",
        "    #set the model to test/eval mode\n",
        "    model_1.eval()\n",
        "\n",
        "    #use torch.inference_mode() for enhanced performance\n",
        "    with torch.inference_mode():\n",
        "        #pass the data\n",
        "        preds = model_1(X)\n",
        "        #calculate the loss\n",
        "        loss = loss_fn(preds, y)\n",
        "        y_preds  =torch.softmax(preds, dim=1).argmax(dim=1)\n",
        "        acc = accuracy_fn(y, y_preds)\n",
        "\n",
        "    if Batch%200==0:\n",
        "        print(f\"Testing {Batch}... Loss:{loss:.4f}, accuracy:{acc:.2f}\")\n",
        "    return (acc, loss)"
      ]
    },
    {
      "cell_type": "code",
      "execution_count": null,
      "metadata": {
        "id": "bdNK9uIuzVtE",
        "colab": {
          "base_uri": "https://localhost:8080/"
        },
        "outputId": "a7330a2b-d237-4b22-d38f-2ad96807278a"
      },
      "outputs": [
        {
          "output_type": "stream",
          "name": "stdout",
          "text": [
            "Epoch no.:0\n",
            "Training 0... Loss:1.9363, accuracy:34.38\n"
          ]
        }
      ],
      "source": [
        "#change the no of epochs for improving your model accuracy by training it longer\n",
        "epochs = 1\n",
        "for epoch in range(epochs):\n",
        "    print(f\"Epoch no.:{epoch}\")\n",
        "    Train_loss, Train_acc = 0., 0.\n",
        "    Validation_loss, Validation_acc = 0., 0.\n",
        "    for batch, (X,y) in enumerate(dataloader):\n",
        "        X = X.to(device)\n",
        "        y = y.to(device)\n",
        "        a, l = train_loop(X, y, batch)\n",
        "        Train_acc += a\n",
        "        Train_loss += l\n",
        "    Train_acc /= len(dataloader)\n",
        "    Train_loss /= len(dataloader)\n",
        "    for batch, (X, y) in enumerate(validt):\n",
        "        X = X.to(device)\n",
        "        y = y.to(device)\n",
        "        ta, tl = test_loop(X, y, batch)\n",
        "        Validation_acc += ta\n",
        "        Validation_loss += tl\n",
        "    Validation_loss /= len(validt)\n",
        "    Validation_acc /= len(validt)\n",
        "\n",
        "    print(f\"Average Metrics...\\nTrain_loss:{Train_loss:.4f} | Train_acc:{Train_acc:.2f} | Validate_loss:{Validation_loss:.4f} | Validate_acc:{Validation_acc:.2f}\")"
      ]
    },
    {
      "cell_type": "code",
      "execution_count": null,
      "metadata": {
        "id": "OvYi3suHS-Uq"
      },
      "outputs": [],
      "source": [
        "Test_acc, Test_loss = 0., 0.\n",
        "for batch, (X, y) in enumerate(dtt):\n",
        "\n",
        "    X = X.to(device)\n",
        "    y = y.to(device)\n",
        "    ta, tl = test_loop(X, y, batch)\n",
        "    Test_acc += ta\n",
        "    Test_loss += tl\n",
        "Test_loss /= len(dtt)\n",
        "Test_acc /= len(dtt)\n",
        "\n",
        "print(f\"Testing... Loss:{Test_loss:.4f}, accuracy:{Test_acc:.2f}\")"
      ]
    },
    {
      "cell_type": "code",
      "execution_count": null,
      "metadata": {
        "id": "nd2Wgidz7Vhl"
      },
      "outputs": [],
      "source": [
        "import seaborn as sns\n",
        "from sklearn.metrics import confusion_matrix\n",
        "for batch, (X, y) in enumerate(validt):\n",
        "    break\n",
        "A = confusion_matrix(model_1(X).detach(), y)\n",
        "sns.heatmap(A, cmap=\"Blues\", annot=True, fmt=\"g\")"
      ]
    }
  ],
  "metadata": {
    "colab": {
      "provenance": [],
      "include_colab_link": true
    },
    "kernelspec": {
      "display_name": "Python 3",
      "name": "python3"
    },
    "language_info": {
      "codemirror_mode": {
        "name": "ipython",
        "version": 3
      },
      "file_extension": ".py",
      "mimetype": "text/x-python",
      "name": "python",
      "nbconvert_exporter": "python",
      "pygments_lexer": "ipython3",
      "version": "3.12.0"
    }
  },
  "nbformat": 4,
  "nbformat_minor": 0
}