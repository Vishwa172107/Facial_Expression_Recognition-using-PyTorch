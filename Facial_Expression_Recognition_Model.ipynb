{
  "cells": [
    {
      "cell_type": "markdown",
      "metadata": {
        "id": "view-in-github",
        "colab_type": "text"
      },
      "source": [
        "<a href=\"https://colab.research.google.com/github/Vishwa172107/Facial_Expression_Recognition-using-PyTorch/blob/main/Facial_Expression_Recognition_Model.ipynb\" target=\"_parent\"><img src=\"https://colab.research.google.com/assets/colab-badge.svg\" alt=\"Open In Colab\"/></a>"
      ]
    },
    {
      "cell_type": "markdown",
      "metadata": {
        "id": "lWSYvZAtv67K"
      },
      "source": [
        "\n",
        "# **1. Start by getting some data:**\n",
        "\n",
        "We can use this code to import a dataset from Kaggle\n"
      ]
    },
    {
      "cell_type": "code",
      "execution_count": 1,
      "metadata": {
        "colab": {
          "base_uri": "https://localhost:8080/"
        },
        "id": "2Z3ORnO6glCq",
        "outputId": "b7a28e09-2c5a-4dd1-cc4f-f7c706a4fe11",
        "collapsed": true
      },
      "outputs": [
        {
          "output_type": "stream",
          "name": "stdout",
          "text": [
            "Dataset URL: https://www.kaggle.com/datasets/mahmoudima/mma-facial-expression\n",
            "License(s): unknown\n",
            "Downloading mma-facial-expression.zip to /content\n",
            " 96% 159M/166M [00:01<00:00, 107MB/s] \n",
            "100% 166M/166M [00:01<00:00, 91.9MB/s]\n"
          ]
        }
      ],
      "source": [
        "#this code is to import the dataset from the Kaggle website\n",
        "! kaggle datasets download mahmoudima/mma-facial-expression\n",
        "!unzip -q mma-facial-expression.zip"
      ]
    },
    {
      "cell_type": "code",
      "execution_count": 2,
      "metadata": {
        "id": "VCSBQPHNzVs5"
      },
      "outputs": [],
      "source": [
        "import torch\n",
        "from torchvision import datasets, transforms\n",
        "from torch.utils.data import DataLoader\n",
        "import torch.nn as nn\n",
        "import matplotlib.pyplot as plt"
      ]
    },
    {
      "cell_type": "code",
      "execution_count": 3,
      "metadata": {
        "id": "cHpKeePbzVs8",
        "colab": {
          "base_uri": "https://localhost:8080/",
          "height": 36
        },
        "outputId": "2387fc49-e932-46ab-8e53-ee6803642e75"
      },
      "outputs": [
        {
          "output_type": "execute_result",
          "data": {
            "text/plain": [
              "'cuda'"
            ],
            "application/vnd.google.colaboratory.intrinsic+json": {
              "type": "string"
            }
          },
          "metadata": {},
          "execution_count": 3
        }
      ],
      "source": [
        "#transform for the data... You can also change the size of images using resize\n",
        "#but then we have to change the parameters for our model\n",
        "transform = transforms.Compose([\n",
        "    transforms.ToTensor(),           # Convert images to tensors\n",
        "    transforms.Normalize(mean=[0.485, 0.456, 0.406],  # Normalize image data\n",
        "                         std=[0.229, 0.224, 0.225])\n",
        "])\n",
        "#setup device agnostic code...\n",
        "#This sets the device to \"cuda\" if a GPU is available\n",
        "device = \"cuda\" if torch.cuda.is_available() else \"cpu\"\n",
        "device"
      ]
    },
    {
      "cell_type": "code",
      "execution_count": 4,
      "metadata": {
        "id": "LL3mUtKEzVs9"
      },
      "outputs": [],
      "source": [
        "dataset = datasets.ImageFolder('/content/MMAFEDB/train', transform=transform)"
      ]
    },
    {
      "cell_type": "code",
      "execution_count": 5,
      "metadata": {
        "id": "YA1yZfmczVtB"
      },
      "outputs": [],
      "source": [
        "dataloader = DataLoader(dataset, batch_size=32, shuffle=True)"
      ]
    },
    {
      "cell_type": "code",
      "execution_count": 6,
      "metadata": {
        "id": "IJ116TNszVtA",
        "colab": {
          "base_uri": "https://localhost:8080/"
        },
        "outputId": "58fd0c70-75ac-4392-a3d7-3dec80719726"
      },
      "outputs": [
        {
          "output_type": "execute_result",
          "data": {
            "text/plain": [
              "['angry', 'disgust', 'fear', 'happy', 'neutral', 'sad', 'surprise']"
            ]
          },
          "metadata": {},
          "execution_count": 6
        }
      ],
      "source": [
        "#The ground truth labels in our dataset\n",
        "dataset.classes"
      ]
    },
    {
      "cell_type": "code",
      "execution_count": 7,
      "metadata": {
        "id": "mpt461w8zVtA",
        "colab": {
          "base_uri": "https://localhost:8080/"
        },
        "outputId": "0c4b693e-9a09-4bf6-9360-3d9ce4b28d0c"
      },
      "outputs": [
        {
          "output_type": "execute_result",
          "data": {
            "text/plain": [
              "{'angry': 0,\n",
              " 'disgust': 1,\n",
              " 'fear': 2,\n",
              " 'happy': 3,\n",
              " 'neutral': 4,\n",
              " 'sad': 5,\n",
              " 'surprise': 6}"
            ]
          },
          "metadata": {},
          "execution_count": 7
        }
      ],
      "source": [
        "#map of each class to a value\n",
        "dataset.class_to_idx"
      ]
    },
    {
      "cell_type": "code",
      "execution_count": 8,
      "metadata": {
        "id": "5GnxTaAEzVtA",
        "colab": {
          "base_uri": "https://localhost:8080/"
        },
        "outputId": "721dd308-ce77-4c82-ce77-953feed60a57"
      },
      "outputs": [
        {
          "output_type": "stream",
          "name": "stdout",
          "text": [
            "6566\n",
            "3231\n",
            "4859\n",
            "28592\n",
            "29384\n",
            "12223\n",
            "8113\n"
          ]
        }
      ],
      "source": [
        "#check how many samples we have from each class\n",
        "for i in range(7):\n",
        "    print(dataset.targets.count(i))"
      ]
    },
    {
      "cell_type": "code",
      "execution_count": 9,
      "metadata": {
        "id": "Zn8fwvM-zVs9"
      },
      "outputs": [],
      "source": [
        "#Loading the test and Validarion data\n",
        "dt = datasets.ImageFolder('/content/MMAFEDB/test', transform=transform)\n",
        "dtt = DataLoader(dt, batch_size=32, shuffle=True)\n",
        "\n",
        "valid = datasets.ImageFolder('/content/MMAFEDB/valid', transform=transform)\n",
        "validt = DataLoader(valid, batch_size=32, shuffle=True)"
      ]
    },
    {
      "cell_type": "code",
      "execution_count": 10,
      "metadata": {
        "id": "JHj102A-Vsu0",
        "colab": {
          "base_uri": "https://localhost:8080/"
        },
        "outputId": "4b7b7c89-ec6f-491f-8899-cb6cabe64b7a"
      },
      "outputs": [
        {
          "output_type": "stream",
          "name": "stdout",
          "text": [
            "Mon Nov  4 03:44:00 2024       \n",
            "+---------------------------------------------------------------------------------------+\n",
            "| NVIDIA-SMI 535.104.05             Driver Version: 535.104.05   CUDA Version: 12.2     |\n",
            "|-----------------------------------------+----------------------+----------------------+\n",
            "| GPU  Name                 Persistence-M | Bus-Id        Disp.A | Volatile Uncorr. ECC |\n",
            "| Fan  Temp   Perf          Pwr:Usage/Cap |         Memory-Usage | GPU-Util  Compute M. |\n",
            "|                                         |                      |               MIG M. |\n",
            "|=========================================+======================+======================|\n",
            "|   0  Tesla T4                       Off | 00000000:00:04.0 Off |                    0 |\n",
            "| N/A   38C    P8               9W /  70W |      3MiB / 15360MiB |      0%      Default |\n",
            "|                                         |                      |                  N/A |\n",
            "+-----------------------------------------+----------------------+----------------------+\n",
            "                                                                                         \n",
            "+---------------------------------------------------------------------------------------+\n",
            "| Processes:                                                                            |\n",
            "|  GPU   GI   CI        PID   Type   Process name                            GPU Memory |\n",
            "|        ID   ID                                                             Usage      |\n",
            "|=======================================================================================|\n",
            "|  No running processes found                                                           |\n",
            "+---------------------------------------------------------------------------------------+\n"
          ]
        }
      ],
      "source": [
        "#shows gpu that we are using... If we have one...\n",
        "!nvidia-smi"
      ]
    },
    {
      "cell_type": "code",
      "execution_count": 11,
      "metadata": {
        "id": "JoN0FqZhzVtB",
        "colab": {
          "base_uri": "https://localhost:8080/"
        },
        "outputId": "f45cb58e-8327-4443-f1b5-a405754b34ab"
      },
      "outputs": [
        {
          "output_type": "execute_result",
          "data": {
            "text/plain": [
              "torch.Size([32, 3, 48, 48])"
            ]
          },
          "metadata": {},
          "execution_count": 11
        }
      ],
      "source": [
        "for batch in dtt:\n",
        "    images, labels = batch\n",
        "    break\n",
        "images.shape"
      ]
    },
    {
      "cell_type": "code",
      "execution_count": 12,
      "metadata": {
        "id": "DjftXrUmzVtC"
      },
      "outputs": [],
      "source": [
        "class Facial_Expression_ModelV1(nn.Module):\n",
        "    def __init__(self, input_features, hidden, output_features, n):\n",
        "        super().__init__()\n",
        "        #create few Layer Stack, (they can vary in number.) and use functions to implement each layer\n",
        "        self.Stack_1 = nn.Sequential(\n",
        "            nn.Conv2d(input_features, hidden, 3, 1, 0),\n",
        "            nn.ReLU(),\n",
        "            nn.Conv2d(hidden, hidden, 3, 1, 0),\n",
        "            nn.ReLU(),\n",
        "            nn.MaxPool2d(2, 1, 0)\n",
        "        )\n",
        "        self.Stack_2 = nn.Sequential(\n",
        "            nn.Conv2d(hidden, hidden, 3, 1, 0),\n",
        "            nn.ReLU(),\n",
        "            nn.Conv2d(hidden, hidden, 3, 2, 0),\n",
        "            nn.ReLU(),\n",
        "            nn.MaxPool2d(2, 1, 0),\n",
        "            nn.Conv2d(hidden, output_features, 3, 1, 0)\n",
        "        )\n",
        "        self.Linearize = nn.Sequential(\n",
        "            nn.Flatten(),\n",
        "            nn.Linear(in_features=n, out_features=7),\n",
        "        )\n",
        "\n",
        "    #override/ Implement the forward() to implement the model\n",
        "    def forward(self, X):\n",
        "        X = self.Stack_1(X)\n",
        "        X = self.Stack_2(X)\n",
        "        X = self.Linearize(X)\n",
        "        return X"
      ]
    },
    {
      "cell_type": "code",
      "execution_count": 13,
      "metadata": {
        "id": "Km3aH_YjzVtC",
        "colab": {
          "base_uri": "https://localhost:8080/"
        },
        "outputId": "4dfb9b3e-4085-4f83-c0e5-31281c709eb1"
      },
      "outputs": [
        {
          "output_type": "execute_result",
          "data": {
            "text/plain": [
              "Facial_Expression_ModelV1(\n",
              "  (Stack_1): Sequential(\n",
              "    (0): Conv2d(3, 120, kernel_size=(3, 3), stride=(1, 1))\n",
              "    (1): ReLU()\n",
              "    (2): Conv2d(120, 120, kernel_size=(3, 3), stride=(1, 1))\n",
              "    (3): ReLU()\n",
              "    (4): MaxPool2d(kernel_size=2, stride=1, padding=0, dilation=1, ceil_mode=False)\n",
              "  )\n",
              "  (Stack_2): Sequential(\n",
              "    (0): Conv2d(120, 120, kernel_size=(3, 3), stride=(1, 1))\n",
              "    (1): ReLU()\n",
              "    (2): Conv2d(120, 120, kernel_size=(3, 3), stride=(2, 2))\n",
              "    (3): ReLU()\n",
              "    (4): MaxPool2d(kernel_size=2, stride=1, padding=0, dilation=1, ceil_mode=False)\n",
              "    (5): Conv2d(120, 7, kernel_size=(3, 3), stride=(1, 1))\n",
              "  )\n",
              "  (Linearize): Sequential(\n",
              "    (0): Flatten(start_dim=1, end_dim=-1)\n",
              "    (1): Linear(in_features=2023, out_features=7, bias=True)\n",
              "  )\n",
              ")"
            ]
          },
          "metadata": {},
          "execution_count": 13
        }
      ],
      "source": [
        "#Create the object of the class that we created and send it to device i.e. \"Device Agnostic Code\"\n",
        "#torch.manual_seed(seed) this is useful to reproduce the same weights each time we run the cell\n",
        "torch.manual_seed(43)\n",
        "\n",
        "#the parameters depend on the image size\n",
        "model_1 = Facial_Expression_ModelV1(3, 120, 7, 2023).to(device)\n",
        "\n",
        "model_1"
      ]
    },
    {
      "cell_type": "code",
      "execution_count": 14,
      "metadata": {
        "id": "lugUs1RdzVtC",
        "colab": {
          "base_uri": "https://localhost:8080/"
        },
        "outputId": "2adf2517-08ed-4d6c-bc9e-a80bbd655ce8"
      },
      "outputs": [
        {
          "output_type": "execute_result",
          "data": {
            "text/plain": [
              "torch.Size([32, 3, 48, 48])"
            ]
          },
          "metadata": {},
          "execution_count": 14
        }
      ],
      "source": [
        "#check the shape of a Single batch of images\n",
        "images.shape"
      ]
    },
    {
      "cell_type": "code",
      "execution_count": 15,
      "metadata": {
        "id": "Iw4fMxchRs34"
      },
      "outputs": [],
      "source": [
        "#sending the data to device to avoid Device errors\n",
        "A = images.to(device)\n",
        "A.device\n",
        "labels = labels.to(device)"
      ]
    },
    {
      "cell_type": "code",
      "execution_count": 16,
      "metadata": {
        "id": "e4q_wdckzVtD",
        "colab": {
          "base_uri": "https://localhost:8080/"
        },
        "outputId": "7bafd458-1609-4711-deef-ccd2f69cdc9b"
      },
      "outputs": [
        {
          "output_type": "execute_result",
          "data": {
            "text/plain": [
              "torch.Size([32, 6912])"
            ]
          },
          "metadata": {},
          "execution_count": 16
        }
      ],
      "source": [
        "#this flattens i.e. converts n-dim tansor into a 1-dim vector\n",
        "nn.Flatten()(images).shape"
      ]
    },
    {
      "cell_type": "code",
      "execution_count": 17,
      "metadata": {
        "id": "gsu_iEHwzVtD",
        "colab": {
          "base_uri": "https://localhost:8080/"
        },
        "outputId": "eb9e344d-51a5-4e02-d10d-04b734fbef26"
      },
      "outputs": [
        {
          "output_type": "execute_result",
          "data": {
            "text/plain": [
              "tensor([False, False,  True, False,  True, False,  True, False, False, False,\n",
              "         True,  True, False,  True, False, False,  True, False, False, False,\n",
              "        False,  True, False, False,  True, False,  True,  True, False, False,\n",
              "        False,  True], device='cuda:0')"
            ]
          },
          "metadata": {},
          "execution_count": 17
        }
      ],
      "source": [
        "#pass a single batch to see if the model works the way we want it to\n",
        "A = model_1(A)\n",
        "A = torch.softmax(A, dim=1).argmax(dim=1)\n",
        "A==labels"
      ]
    },
    {
      "cell_type": "code",
      "execution_count": 18,
      "metadata": {
        "id": "BP4D6Lm2zVtD"
      },
      "outputs": [],
      "source": [
        "#Choose a Loss Function to check \"How wrong your Model is...\"\n",
        "loss_fn = nn.CrossEntropyLoss()\n",
        "\n",
        "#Choose a Optimizer function to update the weights after each epoch...\n",
        "#Note that setting the Learning_Rate (lr) too high could result in NaN errors\n",
        "optimizer = torch.optim.SGD(model_1.parameters(), lr=0.01)"
      ]
    },
    {
      "cell_type": "code",
      "execution_count": 19,
      "metadata": {
        "id": "BkA12nMmzVtD",
        "colab": {
          "base_uri": "https://localhost:8080/"
        },
        "outputId": "f9d37201-4293-4c90-dd10-672ba5ba3e42"
      },
      "outputs": [
        {
          "output_type": "stream",
          "name": "stdout",
          "text": [
            "2906\n"
          ]
        }
      ],
      "source": [
        "print(len(dataloader))"
      ]
    },
    {
      "cell_type": "code",
      "execution_count": 20,
      "metadata": {
        "id": "3QDneKeYUfIP"
      },
      "outputs": [],
      "source": [
        "#custom function to calculate the accuracy based on the Prediction and Ground Truths\n",
        "def accuracy_fn(y_true, y_pred):\n",
        "    \"\"\"Calculates accuracy between truth labels and predictions.\n",
        "\n",
        "    Args:\n",
        "        y_true (torch.Tensor): Truth labels for predictions.\n",
        "        y_pred (torch.Tensor): Predictions to be compared to predictions.\n",
        "\n",
        "    Returns:\n",
        "        [torch.float]: Accuracy value between y_true and y_pred, e.g. 78.45\n",
        "    \"\"\"\n",
        "    correct = torch.eq(y_true, y_pred).sum().item()\n",
        "    acc = (correct / len(y_pred)) * 100\n",
        "    return acc"
      ]
    },
    {
      "cell_type": "code",
      "execution_count": 21,
      "metadata": {
        "id": "0zGAVJcizVtD"
      },
      "outputs": [],
      "source": [
        "#A function to pass a single batch of Training set images to the Neural Network Model\n",
        "def train_loop(X, y, Batch):\n",
        "    #set the model to Training mode\n",
        "    model_1.train()\n",
        "\n",
        "    #forward pass\n",
        "    preds = model_1(X)\n",
        "\n",
        "    #calculate the loss\n",
        "    loss = loss_fn(preds, y)\n",
        "    y_preds = torch.softmax(preds, dim=1).argmax(dim=1)\n",
        "    acc = accuracy_fn(y, y_preds)\n",
        "\n",
        "    #optimizer reset the Gradients\n",
        "    optimizer.zero_grad()\n",
        "\n",
        "    #BackPropogation\n",
        "    loss.backward()\n",
        "\n",
        "    #updating the weights\n",
        "    optimizer.step()\n",
        "\n",
        "    #print for every 1000th batch\n",
        "    # if Batch%1000==0:\n",
        "    #     print(f\"Training {Batch}... Loss:{loss:.4f}, accuracy:{acc:.2f}\")\n",
        "    return (acc, loss)"
      ]
    },
    {
      "cell_type": "code",
      "execution_count": 22,
      "metadata": {
        "id": "hE2yQxyCzVtE"
      },
      "outputs": [],
      "source": [
        "#A function to pass a single batch of Validation data to check the model accuracy after each epoch of Training set\n",
        "def test_loop(X, y, Batch):\n",
        "    #set the model to test/eval mode\n",
        "    model_1.eval()\n",
        "\n",
        "    #use torch.inference_mode() for enhanced performance\n",
        "    with torch.inference_mode():\n",
        "        #pass the data\n",
        "        preds = model_1(X)\n",
        "        #calculate the loss\n",
        "        loss = loss_fn(preds, y)\n",
        "        y_preds  =torch.softmax(preds, dim=1).argmax(dim=1)\n",
        "        acc = accuracy_fn(y, y_preds)\n",
        "\n",
        "    # if Batch%200==0:\n",
        "    #     print(f\"Testing {Batch}... Loss:{loss:.4f}, accuracy:{acc:.2f}\")\n",
        "    return (acc, loss)"
      ]
    },
    {
      "cell_type": "code",
      "execution_count": 23,
      "metadata": {
        "id": "bdNK9uIuzVtE",
        "colab": {
          "base_uri": "https://localhost:8080/",
          "height": 1000
        },
        "outputId": "e3d83c07-9e9b-42cb-a827-79ce46ca6ae0"
      },
      "outputs": [
        {
          "output_type": "stream",
          "name": "stdout",
          "text": [
            "Epoch no.:0\n",
            "Average Metrics...\n",
            "Train_loss:1.4899 | Train_acc:44.10 | Validate_loss:1.5407 | Validate_acc:42.71\n",
            "Epoch no.:1\n",
            "Average Metrics...\n",
            "Train_loss:1.3006 | Train_acc:53.49 | Validate_loss:1.4426 | Validate_acc:45.28\n",
            "Epoch no.:2\n",
            "Average Metrics...\n",
            "Train_loss:1.1936 | Train_acc:57.48 | Validate_loss:1.4362 | Validate_acc:46.66\n",
            "Epoch no.:3\n",
            "Average Metrics...\n",
            "Train_loss:1.1343 | Train_acc:59.69 | Validate_loss:1.7692 | Validate_acc:37.65\n",
            "Epoch no.:4\n",
            "Average Metrics...\n",
            "Train_loss:1.0959 | Train_acc:61.09 | Validate_loss:1.4717 | Validate_acc:47.14\n",
            "Epoch no.:5\n",
            "Average Metrics...\n",
            "Train_loss:1.0647 | Train_acc:62.11 | Validate_loss:1.3724 | Validate_acc:49.56\n",
            "Epoch no.:6\n",
            "Average Metrics...\n",
            "Train_loss:1.0380 | Train_acc:63.14 | Validate_loss:1.3642 | Validate_acc:51.40\n",
            "Epoch no.:7\n",
            "Average Metrics...\n",
            "Train_loss:1.0141 | Train_acc:64.08 | Validate_loss:1.3656 | Validate_acc:50.82\n",
            "Epoch no.:8\n",
            "Average Metrics...\n",
            "Train_loss:0.9925 | Train_acc:64.85 | Validate_loss:1.4742 | Validate_acc:48.32\n",
            "Epoch no.:9\n",
            "Average Metrics...\n",
            "Train_loss:0.9710 | Train_acc:65.48 | Validate_loss:1.3462 | Validate_acc:51.72\n",
            "Epoch no.:10\n",
            "Average Metrics...\n",
            "Train_loss:0.9524 | Train_acc:66.21 | Validate_loss:1.3846 | Validate_acc:50.42\n",
            "Epoch no.:11\n",
            "Average Metrics...\n",
            "Train_loss:0.9332 | Train_acc:67.04 | Validate_loss:1.5314 | Validate_acc:45.39\n",
            "Epoch no.:12\n",
            "Average Metrics...\n",
            "Train_loss:0.9146 | Train_acc:67.68 | Validate_loss:1.4591 | Validate_acc:50.56\n",
            "Epoch no.:13\n",
            "Average Metrics...\n",
            "Train_loss:0.8948 | Train_acc:68.30 | Validate_loss:1.3943 | Validate_acc:51.97\n",
            "Epoch no.:14\n",
            "Average Metrics...\n",
            "Train_loss:0.8743 | Train_acc:69.04 | Validate_loss:1.3805 | Validate_acc:51.53\n",
            "Epoch no.:15\n",
            "Average Metrics...\n",
            "Train_loss:0.8537 | Train_acc:69.91 | Validate_loss:1.4987 | Validate_acc:49.86\n",
            "Epoch no.:16\n",
            "Average Metrics...\n",
            "Train_loss:0.8326 | Train_acc:70.56 | Validate_loss:1.6301 | Validate_acc:47.59\n",
            "Epoch no.:17\n"
          ]
        },
        {
          "output_type": "error",
          "ename": "KeyboardInterrupt",
          "evalue": "",
          "traceback": [
            "\u001b[0;31m---------------------------------------------------------------------------\u001b[0m",
            "\u001b[0;31mKeyboardInterrupt\u001b[0m                         Traceback (most recent call last)",
            "\u001b[0;32m<ipython-input-23-f776643dda53>\u001b[0m in \u001b[0;36m<cell line: 3>\u001b[0;34m()\u001b[0m\n\u001b[1;32m      8\u001b[0m         \u001b[0mX\u001b[0m \u001b[0;34m=\u001b[0m \u001b[0mX\u001b[0m\u001b[0;34m.\u001b[0m\u001b[0mto\u001b[0m\u001b[0;34m(\u001b[0m\u001b[0mdevice\u001b[0m\u001b[0;34m)\u001b[0m\u001b[0;34m\u001b[0m\u001b[0;34m\u001b[0m\u001b[0m\n\u001b[1;32m      9\u001b[0m         \u001b[0my\u001b[0m \u001b[0;34m=\u001b[0m \u001b[0my\u001b[0m\u001b[0;34m.\u001b[0m\u001b[0mto\u001b[0m\u001b[0;34m(\u001b[0m\u001b[0mdevice\u001b[0m\u001b[0;34m)\u001b[0m\u001b[0;34m\u001b[0m\u001b[0;34m\u001b[0m\u001b[0m\n\u001b[0;32m---> 10\u001b[0;31m         \u001b[0ma\u001b[0m\u001b[0;34m,\u001b[0m \u001b[0ml\u001b[0m \u001b[0;34m=\u001b[0m \u001b[0mtrain_loop\u001b[0m\u001b[0;34m(\u001b[0m\u001b[0mX\u001b[0m\u001b[0;34m,\u001b[0m \u001b[0my\u001b[0m\u001b[0;34m,\u001b[0m \u001b[0mbatch\u001b[0m\u001b[0;34m)\u001b[0m\u001b[0;34m\u001b[0m\u001b[0;34m\u001b[0m\u001b[0m\n\u001b[0m\u001b[1;32m     11\u001b[0m         \u001b[0mTrain_acc\u001b[0m \u001b[0;34m+=\u001b[0m \u001b[0ma\u001b[0m\u001b[0;34m\u001b[0m\u001b[0;34m\u001b[0m\u001b[0m\n\u001b[1;32m     12\u001b[0m         \u001b[0mTrain_loss\u001b[0m \u001b[0;34m+=\u001b[0m \u001b[0ml\u001b[0m\u001b[0;34m\u001b[0m\u001b[0;34m\u001b[0m\u001b[0m\n",
            "\u001b[0;32m<ipython-input-21-3440f20c804f>\u001b[0m in \u001b[0;36mtrain_loop\u001b[0;34m(X, y, Batch)\u001b[0m\n\u001b[1;32m     10\u001b[0m     \u001b[0mloss\u001b[0m \u001b[0;34m=\u001b[0m \u001b[0mloss_fn\u001b[0m\u001b[0;34m(\u001b[0m\u001b[0mpreds\u001b[0m\u001b[0;34m,\u001b[0m \u001b[0my\u001b[0m\u001b[0;34m)\u001b[0m\u001b[0;34m\u001b[0m\u001b[0;34m\u001b[0m\u001b[0m\n\u001b[1;32m     11\u001b[0m     \u001b[0my_preds\u001b[0m \u001b[0;34m=\u001b[0m \u001b[0mtorch\u001b[0m\u001b[0;34m.\u001b[0m\u001b[0msoftmax\u001b[0m\u001b[0;34m(\u001b[0m\u001b[0mpreds\u001b[0m\u001b[0;34m,\u001b[0m \u001b[0mdim\u001b[0m\u001b[0;34m=\u001b[0m\u001b[0;36m1\u001b[0m\u001b[0;34m)\u001b[0m\u001b[0;34m.\u001b[0m\u001b[0margmax\u001b[0m\u001b[0;34m(\u001b[0m\u001b[0mdim\u001b[0m\u001b[0;34m=\u001b[0m\u001b[0;36m1\u001b[0m\u001b[0;34m)\u001b[0m\u001b[0;34m\u001b[0m\u001b[0;34m\u001b[0m\u001b[0m\n\u001b[0;32m---> 12\u001b[0;31m     \u001b[0macc\u001b[0m \u001b[0;34m=\u001b[0m \u001b[0maccuracy_fn\u001b[0m\u001b[0;34m(\u001b[0m\u001b[0my\u001b[0m\u001b[0;34m,\u001b[0m \u001b[0my_preds\u001b[0m\u001b[0;34m)\u001b[0m\u001b[0;34m\u001b[0m\u001b[0;34m\u001b[0m\u001b[0m\n\u001b[0m\u001b[1;32m     13\u001b[0m \u001b[0;34m\u001b[0m\u001b[0m\n\u001b[1;32m     14\u001b[0m     \u001b[0;31m#optimizer reset the Gradients\u001b[0m\u001b[0;34m\u001b[0m\u001b[0;34m\u001b[0m\u001b[0m\n",
            "\u001b[0;32m<ipython-input-20-e5292a493a57>\u001b[0m in \u001b[0;36maccuracy_fn\u001b[0;34m(y_true, y_pred)\u001b[0m\n\u001b[1;32m     10\u001b[0m         \u001b[0;34m[\u001b[0m\u001b[0mtorch\u001b[0m\u001b[0;34m.\u001b[0m\u001b[0mfloat\u001b[0m\u001b[0;34m]\u001b[0m\u001b[0;34m:\u001b[0m \u001b[0mAccuracy\u001b[0m \u001b[0mvalue\u001b[0m \u001b[0mbetween\u001b[0m \u001b[0my_true\u001b[0m \u001b[0;32mand\u001b[0m \u001b[0my_pred\u001b[0m\u001b[0;34m,\u001b[0m \u001b[0me\u001b[0m\u001b[0;34m.\u001b[0m\u001b[0mg\u001b[0m\u001b[0;34m.\u001b[0m \u001b[0;36m78.45\u001b[0m\u001b[0;34m\u001b[0m\u001b[0;34m\u001b[0m\u001b[0m\n\u001b[1;32m     11\u001b[0m     \"\"\"\n\u001b[0;32m---> 12\u001b[0;31m     \u001b[0mcorrect\u001b[0m \u001b[0;34m=\u001b[0m \u001b[0mtorch\u001b[0m\u001b[0;34m.\u001b[0m\u001b[0meq\u001b[0m\u001b[0;34m(\u001b[0m\u001b[0my_true\u001b[0m\u001b[0;34m,\u001b[0m \u001b[0my_pred\u001b[0m\u001b[0;34m)\u001b[0m\u001b[0;34m.\u001b[0m\u001b[0msum\u001b[0m\u001b[0;34m(\u001b[0m\u001b[0;34m)\u001b[0m\u001b[0;34m.\u001b[0m\u001b[0mitem\u001b[0m\u001b[0;34m(\u001b[0m\u001b[0;34m)\u001b[0m\u001b[0;34m\u001b[0m\u001b[0;34m\u001b[0m\u001b[0m\n\u001b[0m\u001b[1;32m     13\u001b[0m     \u001b[0macc\u001b[0m \u001b[0;34m=\u001b[0m \u001b[0;34m(\u001b[0m\u001b[0mcorrect\u001b[0m \u001b[0;34m/\u001b[0m \u001b[0mlen\u001b[0m\u001b[0;34m(\u001b[0m\u001b[0my_pred\u001b[0m\u001b[0;34m)\u001b[0m\u001b[0;34m)\u001b[0m \u001b[0;34m*\u001b[0m \u001b[0;36m100\u001b[0m\u001b[0;34m\u001b[0m\u001b[0;34m\u001b[0m\u001b[0m\n\u001b[1;32m     14\u001b[0m     \u001b[0;32mreturn\u001b[0m \u001b[0macc\u001b[0m\u001b[0;34m\u001b[0m\u001b[0;34m\u001b[0m\u001b[0m\n",
            "\u001b[0;31mKeyboardInterrupt\u001b[0m: "
          ]
        }
      ],
      "source": [
        "#change the no of epochs for improving your model accuracy by training it longer\n",
        "epochs = 40\n",
        "for epoch in range(epochs):\n",
        "    print(f\"Epoch no.:{epoch}\")\n",
        "    Train_loss, Train_acc = 0., 0.\n",
        "    Validation_loss, Validation_acc = 0., 0.\n",
        "    for batch, (X,y) in enumerate(dataloader):\n",
        "        X = X.to(device)\n",
        "        y = y.to(device)\n",
        "        a, l = train_loop(X, y, batch)\n",
        "        Train_acc += a\n",
        "        Train_loss += l\n",
        "    Train_acc /= len(dataloader)\n",
        "    Train_loss /= len(dataloader)\n",
        "    for batch, (X, y) in enumerate(validt):\n",
        "        X = X.to(device)\n",
        "        y = y.to(device)\n",
        "        ta, tl = test_loop(X, y, batch)\n",
        "        Validation_acc += ta\n",
        "        Validation_loss += tl\n",
        "    Validation_loss /= len(validt)\n",
        "    Validation_acc /= len(validt)\n",
        "\n",
        "    print(f\"Average Metrics...\\nTrain_loss:{Train_loss:.4f} | Train_acc:{Train_acc:.2f} | Validate_loss:{Validation_loss:.4f} | Validate_acc:{Validation_acc:.2f}\")"
      ]
    },
    {
      "cell_type": "code",
      "execution_count": 24,
      "metadata": {
        "id": "OvYi3suHS-Uq",
        "colab": {
          "base_uri": "https://localhost:8080/"
        },
        "outputId": "11351d42-0c08-4859-c3e4-f5544eb1b71b"
      },
      "outputs": [
        {
          "output_type": "stream",
          "name": "stdout",
          "text": [
            "Testing... Loss:1.4080, accuracy:51.93\n"
          ]
        }
      ],
      "source": [
        "#Test the model with the Test data\n",
        "Test_acc, Test_loss = 0., 0.\n",
        "for batch, (X, y) in enumerate(dtt):\n",
        "    X = X.to(device)\n",
        "    y = y.to(device)\n",
        "    ta, tl = test_loop(X, y, batch)\n",
        "    Test_acc += ta\n",
        "    Test_loss += tl\n",
        "Test_loss /= len(dtt)\n",
        "Test_acc /= len(dtt)\n",
        "\n",
        "print(f\"Testing... Loss:{Test_loss:.4f}, accuracy:{Test_acc:.2f}\")"
      ]
    },
    {
      "cell_type": "code",
      "execution_count": 25,
      "metadata": {
        "id": "nd2Wgidz7Vhl",
        "colab": {
          "base_uri": "https://localhost:8080/",
          "height": 447
        },
        "outputId": "0ac06a48-4982-4236-b4aa-fa3fc3974d3a"
      },
      "outputs": [
        {
          "output_type": "execute_result",
          "data": {
            "text/plain": [
              "<Axes: >"
            ]
          },
          "metadata": {},
          "execution_count": 25
        },
        {
          "output_type": "display_data",
          "data": {
            "text/plain": [
              "<Figure size 640x480 with 2 Axes>"
            ],
            "image/png": "[encoded data removed]"
          },
          "metadata": {}
        }
      ],
      "source": [
        "import seaborn as sns\n",
        "from sklearn.metrics import confusion_matrix\n",
        "a = []\n",
        "Y = []\n",
        "#take test data to visualize in a confusion matrix\n",
        "for batch, (X, y) in enumerate(validt):\n",
        "    a.extend(torch.softmax(model_1(X.to(device)).to(\"cpu\"), dim=1).argmax(dim=1))\n",
        "    Y.extend(y)\n",
        "A = confusion_matrix(Y, a)\n",
        "sns.heatmap(A, cmap=\"Blues\", annot=True, fmt=\"g\")"
      ]
    },
    {
      "cell_type": "code",
      "source": [],
      "metadata": {
        "id": "sTJvxE98v4OY"
      },
      "execution_count": null,
      "outputs": []
    }
  ],
  "metadata": {
    "colab": {
      "provenance": [],
      "gpuType": "T4",
      "include_colab_link": true
    },
    "kernelspec": {
      "display_name": "Python 3",
      "name": "python3"
    },
    "language_info": {
      "codemirror_mode": {
        "name": "ipython",
        "version": 3
      },
      "file_extension": ".py",
      "mimetype": "text/x-python",
      "name": "python",
      "nbconvert_exporter": "python",
      "pygments_lexer": "ipython3",
      "version": "3.12.0"
    },
    "accelerator": "GPU"
  },
  "nbformat": 4,
  "nbformat_minor": 0
}