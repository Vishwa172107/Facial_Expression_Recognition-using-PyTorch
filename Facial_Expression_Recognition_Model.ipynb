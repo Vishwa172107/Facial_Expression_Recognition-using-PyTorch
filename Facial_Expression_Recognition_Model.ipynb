{
  "cells": [
    {
      "cell_type": "markdown",
      "metadata": {
        "id": "view-in-github",
        "colab_type": "text"
      },
      "source": [
        "<a href=\"https://colab.research.google.com/github/Vishwa172107/Facial_Expression_Recognition-using-PyTorch/blob/main/Facial_Expression_Recognition_Model.ipynb\" target=\"_parent\"><img src=\"https://colab.research.google.com/assets/colab-badge.svg\" alt=\"Open In Colab\"/></a>"
      ]
    },
    {
      "cell_type": "markdown",
      "metadata": {
        "id": "lWSYvZAtv67K"
      },
      "source": [
        "\n",
        "# **1. Start by getting some data:**\n",
        "\n",
        "We can use this code to import a dataset from Kaggle\n"
      ]
    },
    {
      "cell_type": "code",
      "execution_count": 1,
      "metadata": {
        "colab": {
          "base_uri": "https://localhost:8080/"
        },
        "id": "2Z3ORnO6glCq",
        "outputId": "ec3f7303-e91b-4da2-e087-8f2b6d47e1ab",
        "collapsed": true
      },
      "outputs": [
        {
          "output_type": "stream",
          "name": "stdout",
          "text": [
            "Dataset URL: https://www.kaggle.com/datasets/msambare/fer2013\n",
            "License(s): DbCL-1.0\n",
            "Downloading fer2013.zip to /content\n",
            " 81% 49.0M/60.3M [00:01<00:00, 49.9MB/s]\n",
            "100% 60.3M/60.3M [00:01<00:00, 55.4MB/s]\n"
          ]
        }
      ],
      "source": [
        "#this code is to import the dataset from the Kaggle website\n",
        "! kaggle datasets download msambare/fer2013\n",
        "!unzip -q fer2013.zip"
      ]
    },
    {
      "cell_type": "code",
      "execution_count": 2,
      "metadata": {
        "id": "VCSBQPHNzVs5"
      },
      "outputs": [],
      "source": [
        "import torch\n",
        "from torchvision import datasets, transforms\n",
        "from torch.utils.data import DataLoader\n",
        "import torch.nn as nn\n",
        "import matplotlib.pyplot as plt"
      ]
    },
    {
      "cell_type": "code",
      "execution_count": 3,
      "metadata": {
        "id": "cHpKeePbzVs8",
        "colab": {
          "base_uri": "https://localhost:8080/",
          "height": 36
        },
        "outputId": "4dac4077-4fe2-42c9-f411-5548a3b74a4d"
      },
      "outputs": [
        {
          "output_type": "execute_result",
          "data": {
            "text/plain": [
              "'cuda'"
            ],
            "application/vnd.google.colaboratory.intrinsic+json": {
              "type": "string"
            }
          },
          "metadata": {},
          "execution_count": 3
        }
      ],
      "source": [
        "#transform for the data... You can also change the size of images using resize\n",
        "#but then we have to change the parameters for our model\n",
        "transform = transforms.Compose([\n",
        "    transforms.ToTensor(),           # Convert images to tensors\n",
        "    transforms.Normalize(mean=[0.485, 0.456, 0.406],  # Normalize image data\n",
        "                         std=[0.229, 0.224, 0.225])\n",
        "])\n",
        "#setup device agnostic code...\n",
        "#This sets the device to \"cuda\" if a GPU is available\n",
        "device = \"cuda\" if torch.cuda.is_available() else \"cpu\"\n",
        "device"
      ]
    },
    {
      "cell_type": "code",
      "execution_count": 4,
      "metadata": {
        "id": "LL3mUtKEzVs9"
      },
      "outputs": [],
      "source": [
        "dataset = datasets.ImageFolder('/content/train', transform=transform)"
      ]
    },
    {
      "cell_type": "code",
      "execution_count": 5,
      "metadata": {
        "id": "YA1yZfmczVtB"
      },
      "outputs": [],
      "source": [
        "dataloader = DataLoader(dataset, batch_size=32, shuffle=True)"
      ]
    },
    {
      "cell_type": "code",
      "execution_count": 6,
      "metadata": {
        "id": "IJ116TNszVtA",
        "colab": {
          "base_uri": "https://localhost:8080/"
        },
        "outputId": "540478eb-c4a6-4245-bac5-86af40299aab"
      },
      "outputs": [
        {
          "output_type": "execute_result",
          "data": {
            "text/plain": [
              "['angry', 'disgust', 'fear', 'happy', 'neutral', 'sad', 'surprise']"
            ]
          },
          "metadata": {},
          "execution_count": 6
        }
      ],
      "source": [
        "#The ground truth labels in our dataset\n",
        "dataset.classes"
      ]
    },
    {
      "cell_type": "code",
      "execution_count": 7,
      "metadata": {
        "id": "mpt461w8zVtA",
        "colab": {
          "base_uri": "https://localhost:8080/"
        },
        "outputId": "a5a67df4-c863-4476-98a0-c01c69979f43"
      },
      "outputs": [
        {
          "output_type": "execute_result",
          "data": {
            "text/plain": [
              "{'angry': 0,\n",
              " 'disgust': 1,\n",
              " 'fear': 2,\n",
              " 'happy': 3,\n",
              " 'neutral': 4,\n",
              " 'sad': 5,\n",
              " 'surprise': 6}"
            ]
          },
          "metadata": {},
          "execution_count": 7
        }
      ],
      "source": [
        "#map of each class to a value\n",
        "dataset.class_to_idx"
      ]
    },
    {
      "cell_type": "code",
      "execution_count": 8,
      "metadata": {
        "id": "5GnxTaAEzVtA",
        "colab": {
          "base_uri": "https://localhost:8080/"
        },
        "outputId": "21df99cc-2a3d-44f9-9388-f46a0032bbf8"
      },
      "outputs": [
        {
          "output_type": "stream",
          "name": "stdout",
          "text": [
            "3995\n",
            "436\n",
            "4097\n",
            "7215\n",
            "4965\n",
            "4830\n",
            "3171\n"
          ]
        }
      ],
      "source": [
        "#check how many samples we have from each class\n",
        "for i in range(7):\n",
        "    print(dataset.targets.count(i))"
      ]
    },
    {
      "cell_type": "code",
      "execution_count": 9,
      "metadata": {
        "id": "Zn8fwvM-zVs9"
      },
      "outputs": [],
      "source": [
        "#Loading the test and Validarion data\n",
        "dt = datasets.ImageFolder('/content/test', transform=transform)\n",
        "dtt = DataLoader(dt, batch_size=32, shuffle=True)\n",
        "\n",
        "valid = datasets.ImageFolder('/content/test', transform=transform)\n",
        "validt = DataLoader(valid, batch_size=32, shuffle=True)"
      ]
    },
    {
      "cell_type": "code",
      "execution_count": 10,
      "metadata": {
        "id": "JHj102A-Vsu0",
        "colab": {
          "base_uri": "https://localhost:8080/"
        },
        "outputId": "e46cd4c3-0444-4dff-9b38-1fe4c7bea540"
      },
      "outputs": [
        {
          "output_type": "stream",
          "name": "stdout",
          "text": [
            "Wed Nov  6 22:15:11 2024       \n",
            "+---------------------------------------------------------------------------------------+\n",
            "| NVIDIA-SMI 535.104.05             Driver Version: 535.104.05   CUDA Version: 12.2     |\n",
            "|-----------------------------------------+----------------------+----------------------+\n",
            "| GPU  Name                 Persistence-M | Bus-Id        Disp.A | Volatile Uncorr. ECC |\n",
            "| Fan  Temp   Perf          Pwr:Usage/Cap |         Memory-Usage | GPU-Util  Compute M. |\n",
            "|                                         |                      |               MIG M. |\n",
            "|=========================================+======================+======================|\n",
            "|   0  Tesla T4                       Off | 00000000:00:04.0 Off |                    0 |\n",
            "| N/A   47C    P8               9W /  70W |      3MiB / 15360MiB |      0%      Default |\n",
            "|                                         |                      |                  N/A |\n",
            "+-----------------------------------------+----------------------+----------------------+\n",
            "                                                                                         \n",
            "+---------------------------------------------------------------------------------------+\n",
            "| Processes:                                                                            |\n",
            "|  GPU   GI   CI        PID   Type   Process name                            GPU Memory |\n",
            "|        ID   ID                                                             Usage      |\n",
            "|=======================================================================================|\n",
            "|  No running processes found                                                           |\n",
            "+---------------------------------------------------------------------------------------+\n"
          ]
        }
      ],
      "source": [
        "#shows gpu that we are using... If we have one...\n",
        "!nvidia-smi"
      ]
    },
    {
      "cell_type": "code",
      "execution_count": 11,
      "metadata": {
        "id": "JoN0FqZhzVtB",
        "colab": {
          "base_uri": "https://localhost:8080/"
        },
        "outputId": "dc6d1bed-9930-4a92-fb40-82bda5103d96"
      },
      "outputs": [
        {
          "output_type": "execute_result",
          "data": {
            "text/plain": [
              "torch.Size([32, 3, 48, 48])"
            ]
          },
          "metadata": {},
          "execution_count": 11
        }
      ],
      "source": [
        "for batch in dtt:\n",
        "    images, labels = batch\n",
        "    break\n",
        "images.shape"
      ]
    },
    {
      "cell_type": "code",
      "execution_count": 30,
      "metadata": {
        "id": "DjftXrUmzVtC"
      },
      "outputs": [],
      "source": [
        "class Facial_Expression_ModelV1(nn.Module):\n",
        "    def __init__(self, input_features, output_features):\n",
        "        super().__init__()\n",
        "        #create few Layer Stack, (they can vary in number.) and use functions to implement each layer\n",
        "        self.Stack_1 = nn.Sequential(\n",
        "            nn.Conv2d(input_features, 32, 3, 1, 0),\n",
        "            nn.PReLU(),\n",
        "            nn.Dropout(0.2),\n",
        "            nn.Conv2d(32, 64, 3, 1, 0),\n",
        "            nn.PReLU(),\n",
        "            nn.Dropout(0.2),\n",
        "            nn.MaxPool2d(2, 1, 0)\n",
        "        )\n",
        "        self.Stack_2 = nn.Sequential(\n",
        "            nn.Conv2d(64, 64, 3, 1, 0),\n",
        "            nn.PReLU(),\n",
        "            nn.Dropout(0.2),\n",
        "            nn.Conv2d(64, 32, 3, 2, 0),\n",
        "            nn.PReLU(),\n",
        "            nn.Dropout(0.2),\n",
        "            nn.MaxPool2d(2, 1, 0),\n",
        "            nn.Conv2d(32, 3, 3, 1, 0),\n",
        "            nn.PReLU(),\n",
        "            nn.Dropout(0.2),\n",
        "        )\n",
        "        self.Linearize = nn.Sequential(\n",
        "            nn.Flatten(),\n",
        "            nn.Linear(in_features=867, out_features=100),\n",
        "            nn.PReLU(),\n",
        "            nn.Linear(in_features=100, out_features=7)\n",
        "        )\n",
        "\n",
        "    #override/ Implement the forward() to implement the model\n",
        "    def forward(self, X):\n",
        "        X = self.Stack_1(X)\n",
        "        X = self.Stack_2(X)\n",
        "        X = self.Linearize(X)\n",
        "        return X"
      ]
    },
    {
      "cell_type": "code",
      "execution_count": 31,
      "metadata": {
        "id": "Km3aH_YjzVtC",
        "colab": {
          "base_uri": "https://localhost:8080/"
        },
        "outputId": "f1bdda61-f08d-4690-cce0-514a0fe03361"
      },
      "outputs": [
        {
          "output_type": "execute_result",
          "data": {
            "text/plain": [
              "Facial_Expression_ModelV1(\n",
              "  (Stack_1): Sequential(\n",
              "    (0): Conv2d(3, 32, kernel_size=(3, 3), stride=(1, 1))\n",
              "    (1): PReLU(num_parameters=1)\n",
              "    (2): Dropout(p=0.2, inplace=False)\n",
              "    (3): Conv2d(32, 64, kernel_size=(3, 3), stride=(1, 1))\n",
              "    (4): PReLU(num_parameters=1)\n",
              "    (5): Dropout(p=0.2, inplace=False)\n",
              "    (6): MaxPool2d(kernel_size=2, stride=1, padding=0, dilation=1, ceil_mode=False)\n",
              "  )\n",
              "  (Stack_2): Sequential(\n",
              "    (0): Conv2d(64, 64, kernel_size=(3, 3), stride=(1, 1))\n",
              "    (1): PReLU(num_parameters=1)\n",
              "    (2): Dropout(p=0.2, inplace=False)\n",
              "    (3): Conv2d(64, 32, kernel_size=(3, 3), stride=(2, 2))\n",
              "    (4): PReLU(num_parameters=1)\n",
              "    (5): Dropout(p=0.2, inplace=False)\n",
              "    (6): MaxPool2d(kernel_size=2, stride=1, padding=0, dilation=1, ceil_mode=False)\n",
              "    (7): Conv2d(32, 3, kernel_size=(3, 3), stride=(1, 1))\n",
              "    (8): PReLU(num_parameters=1)\n",
              "    (9): Dropout(p=0.2, inplace=False)\n",
              "  )\n",
              "  (Linearize): Sequential(\n",
              "    (0): Flatten(start_dim=1, end_dim=-1)\n",
              "    (1): Linear(in_features=867, out_features=100, bias=True)\n",
              "    (2): PReLU(num_parameters=1)\n",
              "    (3): Linear(in_features=100, out_features=7, bias=True)\n",
              "  )\n",
              ")"
            ]
          },
          "metadata": {},
          "execution_count": 31
        }
      ],
      "source": [
        "#Create the object of the class that we created and send it to device i.e. \"Device Agnostic Code\"\n",
        "#torch.manual_seed(seed) this is useful to reproduce the same weights each time we run the cell\n",
        "torch.manual_seed(43)\n",
        "\n",
        "#the parameters depend on the image size\n",
        "model_1 = Facial_Expression_ModelV1(3, 7).to(device)\n",
        "\n",
        "model_1"
      ]
    },
    {
      "cell_type": "code",
      "source": [
        "from torchsummary import summary\n",
        "summary(model_1, (3, 48, 48), 32)"
      ],
      "metadata": {
        "id": "3FLXOg4JDkZ8",
        "outputId": "e817d8c4-4c53-40c2-a6e0-2b73a2e527b7",
        "colab": {
          "base_uri": "https://localhost:8080/"
        }
      },
      "execution_count": 32,
      "outputs": [
        {
          "output_type": "stream",
          "name": "stdout",
          "text": [
            "----------------------------------------------------------------\n",
            "        Layer (type)               Output Shape         Param #\n",
            "================================================================\n",
            "            Conv2d-1           [32, 32, 46, 46]             896\n",
            "             PReLU-2           [32, 32, 46, 46]               1\n",
            "           Dropout-3           [32, 32, 46, 46]               0\n",
            "            Conv2d-4           [32, 64, 44, 44]          18,496\n",
            "             PReLU-5           [32, 64, 44, 44]               1\n",
            "           Dropout-6           [32, 64, 44, 44]               0\n",
            "         MaxPool2d-7           [32, 64, 43, 43]               0\n",
            "            Conv2d-8           [32, 64, 41, 41]          36,928\n",
            "             PReLU-9           [32, 64, 41, 41]               1\n",
            "          Dropout-10           [32, 64, 41, 41]               0\n",
            "           Conv2d-11           [32, 32, 20, 20]          18,464\n",
            "            PReLU-12           [32, 32, 20, 20]               1\n",
            "          Dropout-13           [32, 32, 20, 20]               0\n",
            "        MaxPool2d-14           [32, 32, 19, 19]               0\n",
            "           Conv2d-15            [32, 3, 17, 17]             867\n",
            "            PReLU-16            [32, 3, 17, 17]               1\n",
            "          Dropout-17            [32, 3, 17, 17]               0\n",
            "          Flatten-18                  [32, 867]               0\n",
            "           Linear-19                  [32, 100]          86,800\n",
            "            PReLU-20                  [32, 100]               1\n",
            "           Linear-21                    [32, 7]             707\n",
            "================================================================\n",
            "Total params: 163,164\n",
            "Trainable params: 163,164\n",
            "Non-trainable params: 0\n",
            "----------------------------------------------------------------\n",
            "Input size (MB): 0.84\n",
            "Forward/backward pass size (MB): 261.12\n",
            "Params size (MB): 0.62\n",
            "Estimated Total Size (MB): 262.59\n",
            "----------------------------------------------------------------\n"
          ]
        }
      ]
    },
    {
      "cell_type": "code",
      "execution_count": 33,
      "metadata": {
        "id": "lugUs1RdzVtC",
        "colab": {
          "base_uri": "https://localhost:8080/"
        },
        "outputId": "5681a594-3307-4480-c09d-4b7919ee35ed"
      },
      "outputs": [
        {
          "output_type": "execute_result",
          "data": {
            "text/plain": [
              "torch.Size([32, 3, 48, 48])"
            ]
          },
          "metadata": {},
          "execution_count": 33
        }
      ],
      "source": [
        "#check the shape of a Single batch of images\n",
        "images.shape"
      ]
    },
    {
      "cell_type": "code",
      "execution_count": 34,
      "metadata": {
        "id": "Iw4fMxchRs34"
      },
      "outputs": [],
      "source": [
        "#sending the data to device to avoid Device errors\n",
        "A = images.to(device)\n",
        "A.device\n",
        "labels = labels.to(device)"
      ]
    },
    {
      "cell_type": "code",
      "execution_count": 35,
      "metadata": {
        "id": "e4q_wdckzVtD",
        "colab": {
          "base_uri": "https://localhost:8080/"
        },
        "outputId": "0b597a16-7dbc-4bba-9b2f-f8341e221b9f"
      },
      "outputs": [
        {
          "output_type": "execute_result",
          "data": {
            "text/plain": [
              "torch.Size([32, 6912])"
            ]
          },
          "metadata": {},
          "execution_count": 35
        }
      ],
      "source": [
        "#this flattens i.e. converts n-dim tansor into a 1-dim vector\n",
        "nn.Flatten()(images).shape"
      ]
    },
    {
      "cell_type": "code",
      "execution_count": 36,
      "metadata": {
        "id": "gsu_iEHwzVtD",
        "colab": {
          "base_uri": "https://localhost:8080/"
        },
        "outputId": "52db626d-6e43-4230-fb44-b1da03718bd8"
      },
      "outputs": [
        {
          "output_type": "execute_result",
          "data": {
            "text/plain": [
              "tensor([False, False, False, False, False, False, False, False, False, False,\n",
              "        False, False, False, False, False, False, False,  True, False, False,\n",
              "        False, False,  True, False, False, False, False,  True, False, False,\n",
              "        False, False], device='cuda:0')"
            ]
          },
          "metadata": {},
          "execution_count": 36
        }
      ],
      "source": [
        "#pass a single batch to see if the model works the way we want it to\n",
        "A = model_1(A)\n",
        "A = torch.softmax(A, dim=1).argmax(dim=1)\n",
        "A==labels"
      ]
    },
    {
      "cell_type": "code",
      "execution_count": 37,
      "metadata": {
        "id": "BP4D6Lm2zVtD"
      },
      "outputs": [],
      "source": [
        "#Choose a Loss Function to check \"How wrong your Model is...\"\n",
        "loss_fn = nn.CrossEntropyLoss()\n",
        "\n",
        "#Choose a Optimizer function to update the weights after each epoch...\n",
        "#Note that setting the Learning_Rate (lr) too high could result in NaN errors\n",
        "optimizer = torch.optim.SGD(model_1.parameters(), lr=0.01)"
      ]
    },
    {
      "cell_type": "code",
      "execution_count": 38,
      "metadata": {
        "id": "BkA12nMmzVtD",
        "colab": {
          "base_uri": "https://localhost:8080/"
        },
        "outputId": "7ea0be15-891b-4b61-ee6a-d7f223340cbf"
      },
      "outputs": [
        {
          "output_type": "stream",
          "name": "stdout",
          "text": [
            "898\n"
          ]
        }
      ],
      "source": [
        "print(len(dataloader))"
      ]
    },
    {
      "cell_type": "code",
      "execution_count": 39,
      "metadata": {
        "id": "3QDneKeYUfIP"
      },
      "outputs": [],
      "source": [
        "#custom function to calculate the accuracy based on the Prediction and Ground Truths\n",
        "def accuracy_fn(y_true, y_pred):\n",
        "    \"\"\"Calculates accuracy between truth labels and predictions.\n",
        "\n",
        "    Args:\n",
        "        y_true (torch.Tensor): Truth labels for predictions.\n",
        "        y_pred (torch.Tensor): Predictions to be compared to predictions.\n",
        "\n",
        "    Returns:\n",
        "        [torch.float]: Accuracy value between y_true and y_pred, e.g. 78.45\n",
        "    \"\"\"\n",
        "    correct = torch.eq(y_true, y_pred).sum().item()\n",
        "    acc = (correct / len(y_pred)) * 100\n",
        "    return acc"
      ]
    },
    {
      "cell_type": "code",
      "execution_count": 40,
      "metadata": {
        "id": "0zGAVJcizVtD"
      },
      "outputs": [],
      "source": [
        "#A function to pass a single batch of Training set images to the Neural Network Model\n",
        "def train_loop(X, y, Batch):\n",
        "    #set the model to Training mode\n",
        "    model_1.train()\n",
        "\n",
        "    #forward pass\n",
        "    preds = model_1(X)\n",
        "\n",
        "    #calculate the loss\n",
        "    loss = loss_fn(preds, y)\n",
        "    y_preds = torch.softmax(preds, dim=1).argmax(dim=1)\n",
        "    acc = accuracy_fn(y, y_preds)\n",
        "\n",
        "    #optimizer reset the Gradients\n",
        "    optimizer.zero_grad()\n",
        "\n",
        "    #BackPropogation\n",
        "    loss.backward()\n",
        "\n",
        "    #updating the weights\n",
        "    optimizer.step()\n",
        "\n",
        "    #print for every 1000th batch\n",
        "    # if Batch%1000==0:\n",
        "    #     print(f\"Training {Batch}... Loss:{loss:.4f}, accuracy:{acc:.2f}\")\n",
        "    return (acc, loss)"
      ]
    },
    {
      "cell_type": "code",
      "execution_count": 41,
      "metadata": {
        "id": "hE2yQxyCzVtE"
      },
      "outputs": [],
      "source": [
        "#A function to pass a single batch of Validation data to check the model accuracy after each epoch of Training set\n",
        "def test_loop(X, y, Batch):\n",
        "    #set the model to test/eval mode\n",
        "    model_1.eval()\n",
        "\n",
        "    #use torch.inference_mode() for enhanced performance\n",
        "    with torch.inference_mode():\n",
        "        #pass the data\n",
        "        preds = model_1(X)\n",
        "        #calculate the loss\n",
        "        loss = loss_fn(preds, y)\n",
        "        y_preds  =torch.softmax(preds, dim=1).argmax(dim=1)\n",
        "        acc = accuracy_fn(y, y_preds)\n",
        "\n",
        "    # if Batch%200==0:\n",
        "    #     print(f\"Testing {Batch}... Loss:{loss:.4f}, accuracy:{acc:.2f}\")\n",
        "    return (acc, loss)"
      ]
    },
    {
      "cell_type": "code",
      "execution_count": 42,
      "metadata": {
        "id": "bdNK9uIuzVtE",
        "colab": {
          "base_uri": "https://localhost:8080/"
        },
        "outputId": "036b357f-c702-488a-81d5-2406719cd3a3"
      },
      "outputs": [
        {
          "output_type": "stream",
          "name": "stdout",
          "text": [
            "Epoch no.:0\n",
            "Average Metrics...\n",
            "Train_loss:1.8303 | Train_acc:24.42 | Validate_loss:1.8197 | Validate_acc:24.76\n",
            "Epoch no.:1\n",
            "Average Metrics...\n",
            "Train_loss:1.7583 | Train_acc:28.30 | Validate_loss:1.7047 | Validate_acc:33.16\n",
            "Epoch no.:2\n",
            "Average Metrics...\n",
            "Train_loss:1.6633 | Train_acc:34.42 | Validate_loss:1.6602 | Validate_acc:35.34\n",
            "Epoch no.:3\n",
            "Average Metrics...\n",
            "Train_loss:1.6009 | Train_acc:37.70 | Validate_loss:1.5821 | Validate_acc:37.76\n",
            "Epoch no.:4\n",
            "Average Metrics...\n",
            "Train_loss:1.5366 | Train_acc:40.31 | Validate_loss:1.5375 | Validate_acc:40.12\n",
            "Epoch no.:5\n",
            "Average Metrics...\n",
            "Train_loss:1.4717 | Train_acc:42.99 | Validate_loss:1.4973 | Validate_acc:42.89\n",
            "Epoch no.:6\n",
            "Average Metrics...\n",
            "Train_loss:1.4192 | Train_acc:44.82 | Validate_loss:1.4614 | Validate_acc:42.97\n",
            "Epoch no.:7\n",
            "Average Metrics...\n",
            "Train_loss:1.3774 | Train_acc:46.98 | Validate_loss:1.4098 | Validate_acc:46.37\n",
            "Epoch no.:8\n",
            "Average Metrics...\n",
            "Train_loss:1.3374 | Train_acc:48.65 | Validate_loss:1.3563 | Validate_acc:47.43\n",
            "Epoch no.:9\n",
            "Average Metrics...\n",
            "Train_loss:1.3041 | Train_acc:50.37 | Validate_loss:1.3831 | Validate_acc:45.97\n",
            "Epoch no.:10\n",
            "Average Metrics...\n",
            "Train_loss:1.2755 | Train_acc:51.81 | Validate_loss:1.3728 | Validate_acc:47.73\n",
            "Epoch no.:11\n",
            "Average Metrics...\n",
            "Train_loss:1.2416 | Train_acc:53.05 | Validate_loss:1.3277 | Validate_acc:48.85\n",
            "Epoch no.:12\n",
            "Average Metrics...\n",
            "Train_loss:1.2203 | Train_acc:53.84 | Validate_loss:1.3026 | Validate_acc:49.83\n",
            "Epoch no.:13\n",
            "Average Metrics...\n",
            "Train_loss:1.1941 | Train_acc:54.69 | Validate_loss:1.3217 | Validate_acc:49.22\n",
            "Epoch no.:14\n",
            "Average Metrics...\n",
            "Train_loss:1.1699 | Train_acc:55.83 | Validate_loss:1.3028 | Validate_acc:49.96\n",
            "Epoch no.:15\n",
            "Average Metrics...\n",
            "Train_loss:1.1490 | Train_acc:56.91 | Validate_loss:1.2990 | Validate_acc:49.54\n",
            "Epoch no.:16\n",
            "Average Metrics...\n",
            "Train_loss:1.1259 | Train_acc:57.65 | Validate_loss:1.2958 | Validate_acc:50.31\n",
            "Epoch no.:17\n",
            "Average Metrics...\n",
            "Train_loss:1.1024 | Train_acc:58.28 | Validate_loss:1.2724 | Validate_acc:51.83\n",
            "Epoch no.:18\n",
            "Average Metrics...\n",
            "Train_loss:1.0874 | Train_acc:59.03 | Validate_loss:1.3341 | Validate_acc:48.97\n",
            "Epoch no.:19\n",
            "Average Metrics...\n",
            "Train_loss:1.0681 | Train_acc:60.12 | Validate_loss:1.3212 | Validate_acc:49.21\n",
            "Epoch no.:20\n",
            "Average Metrics...\n",
            "Train_loss:1.0432 | Train_acc:60.82 | Validate_loss:1.3091 | Validate_acc:50.49\n",
            "Epoch no.:21\n",
            "Average Metrics...\n",
            "Train_loss:1.0278 | Train_acc:61.56 | Validate_loss:1.2986 | Validate_acc:50.93\n",
            "Epoch no.:22\n",
            "Average Metrics...\n",
            "Train_loss:1.0066 | Train_acc:62.27 | Validate_loss:1.3250 | Validate_acc:49.44\n",
            "Epoch no.:23\n",
            "Average Metrics...\n",
            "Train_loss:0.9913 | Train_acc:62.79 | Validate_loss:1.2988 | Validate_acc:51.83\n",
            "Epoch no.:24\n",
            "Average Metrics...\n",
            "Train_loss:0.9719 | Train_acc:63.75 | Validate_loss:1.3087 | Validate_acc:51.52\n",
            "Epoch no.:25\n",
            "Average Metrics...\n",
            "Train_loss:0.9567 | Train_acc:64.33 | Validate_loss:1.3079 | Validate_acc:52.02\n",
            "Epoch no.:26\n",
            "Average Metrics...\n",
            "Train_loss:0.9361 | Train_acc:64.94 | Validate_loss:1.3961 | Validate_acc:48.65\n",
            "Epoch no.:27\n",
            "Average Metrics...\n",
            "Train_loss:0.9202 | Train_acc:65.84 | Validate_loss:1.3670 | Validate_acc:50.57\n",
            "Epoch no.:28\n",
            "Average Metrics...\n",
            "Train_loss:0.9058 | Train_acc:66.29 | Validate_loss:1.2952 | Validate_acc:51.17\n",
            "Epoch no.:29\n",
            "Average Metrics...\n",
            "Train_loss:0.8930 | Train_acc:66.60 | Validate_loss:1.3307 | Validate_acc:51.98\n",
            "Epoch no.:30\n",
            "Average Metrics...\n",
            "Train_loss:0.8735 | Train_acc:67.58 | Validate_loss:1.4290 | Validate_acc:49.25\n",
            "Epoch no.:31\n",
            "Average Metrics...\n",
            "Train_loss:0.8668 | Train_acc:67.89 | Validate_loss:1.3469 | Validate_acc:49.72\n",
            "Epoch no.:32\n",
            "Average Metrics...\n",
            "Train_loss:0.8501 | Train_acc:68.40 | Validate_loss:1.3613 | Validate_acc:51.78\n",
            "Epoch no.:33\n",
            "Average Metrics...\n",
            "Train_loss:0.8395 | Train_acc:68.78 | Validate_loss:1.3922 | Validate_acc:48.74\n",
            "Epoch no.:34\n",
            "Average Metrics...\n",
            "Train_loss:0.8187 | Train_acc:69.60 | Validate_loss:1.3846 | Validate_acc:52.09\n",
            "Epoch no.:35\n",
            "Average Metrics...\n",
            "Train_loss:0.8146 | Train_acc:69.57 | Validate_loss:1.3240 | Validate_acc:51.20\n",
            "Epoch no.:36\n",
            "Average Metrics...\n",
            "Train_loss:0.8004 | Train_acc:70.27 | Validate_loss:1.4315 | Validate_acc:51.90\n",
            "Epoch no.:37\n",
            "Average Metrics...\n",
            "Train_loss:0.7927 | Train_acc:70.72 | Validate_loss:1.5265 | Validate_acc:48.96\n",
            "Epoch no.:38\n",
            "Average Metrics...\n",
            "Train_loss:0.7800 | Train_acc:71.21 | Validate_loss:1.5132 | Validate_acc:49.96\n",
            "Epoch no.:39\n",
            "Average Metrics...\n",
            "Train_loss:0.7747 | Train_acc:71.28 | Validate_loss:1.4045 | Validate_acc:51.48\n",
            "Epoch no.:40\n",
            "Average Metrics...\n",
            "Train_loss:0.7614 | Train_acc:71.84 | Validate_loss:1.4384 | Validate_acc:51.34\n",
            "Epoch no.:41\n",
            "Average Metrics...\n",
            "Train_loss:0.7568 | Train_acc:71.96 | Validate_loss:1.3821 | Validate_acc:52.30\n",
            "Epoch no.:42\n",
            "Average Metrics...\n",
            "Train_loss:0.7479 | Train_acc:72.40 | Validate_loss:1.3931 | Validate_acc:49.62\n",
            "Epoch no.:43\n",
            "Average Metrics...\n",
            "Train_loss:0.7341 | Train_acc:72.91 | Validate_loss:1.4220 | Validate_acc:51.66\n",
            "Epoch no.:44\n",
            "Average Metrics...\n",
            "Train_loss:0.7282 | Train_acc:72.80 | Validate_loss:1.3605 | Validate_acc:51.57\n",
            "Epoch no.:45\n",
            "Average Metrics...\n",
            "Train_loss:0.7127 | Train_acc:73.54 | Validate_loss:1.4228 | Validate_acc:49.76\n",
            "Epoch no.:46\n",
            "Average Metrics...\n",
            "Train_loss:0.7131 | Train_acc:73.46 | Validate_loss:1.4271 | Validate_acc:50.34\n",
            "Epoch no.:47\n",
            "Average Metrics...\n",
            "Train_loss:0.7039 | Train_acc:73.85 | Validate_loss:1.4776 | Validate_acc:51.12\n",
            "Epoch no.:48\n",
            "Average Metrics...\n",
            "Train_loss:0.7034 | Train_acc:73.95 | Validate_loss:1.4770 | Validate_acc:50.40\n",
            "Epoch no.:49\n",
            "Average Metrics...\n",
            "Train_loss:0.6834 | Train_acc:74.60 | Validate_loss:1.5425 | Validate_acc:50.04\n"
          ]
        }
      ],
      "source": [
        "#change the no of epochs for improving your model accuracy by training it longer\n",
        "epochs = 50\n",
        "for epoch in range(epochs):\n",
        "    print(f\"Epoch no.:{epoch}\")\n",
        "    Train_loss, Train_acc = 0., 0.\n",
        "    Validation_loss, Validation_acc = 0., 0.\n",
        "    for batch, (X,y) in enumerate(dataloader):\n",
        "        X = X.to(device)\n",
        "        y = y.to(device)\n",
        "        a, l = train_loop(X, y, batch)\n",
        "        Train_acc += a\n",
        "        Train_loss += l\n",
        "    Train_acc /= len(dataloader)\n",
        "    Train_loss /= len(dataloader)\n",
        "    for batch, (X, y) in enumerate(validt):\n",
        "        X = X.to(device)\n",
        "        y = y.to(device)\n",
        "        ta, tl = test_loop(X, y, batch)\n",
        "        Validation_acc += ta\n",
        "        Validation_loss += tl\n",
        "    Validation_loss /= len(validt)\n",
        "    Validation_acc /= len(validt)\n",
        "\n",
        "    print(f\"Average Metrics...\\nTrain_loss:{Train_loss:.4f} | Train_acc:{Train_acc:.2f} | Validate_loss:{Validation_loss:.4f} | Validate_acc:{Validation_acc:.2f}\")"
      ]
    },
    {
      "cell_type": "code",
      "execution_count": 43,
      "metadata": {
        "id": "OvYi3suHS-Uq",
        "colab": {
          "base_uri": "https://localhost:8080/"
        },
        "outputId": "c2debd18-a10c-4215-bbf1-43e9fd9a09d2"
      },
      "outputs": [
        {
          "output_type": "stream",
          "name": "stdout",
          "text": [
            "Testing... Loss:1.5429, accuracy:49.92\n"
          ]
        }
      ],
      "source": [
        "#Test the model with the Test data\n",
        "Test_acc, Test_loss = 0., 0.\n",
        "for batch, (X, y) in enumerate(dtt):\n",
        "    X = X.to(device)\n",
        "    y = y.to(device)\n",
        "    ta, tl = test_loop(X, y, batch)\n",
        "    Test_acc += ta\n",
        "    Test_loss += tl\n",
        "Test_loss /= len(dtt)\n",
        "Test_acc /= len(dtt)\n",
        "\n",
        "print(f\"Testing... Loss:{Test_loss:.4f}, accuracy:{Test_acc:.2f}\")"
      ]
    },
    {
      "cell_type": "code",
      "execution_count": 44,
      "metadata": {
        "id": "nd2Wgidz7Vhl",
        "colab": {
          "base_uri": "https://localhost:8080/",
          "height": 447
        },
        "outputId": "1dbc295e-111a-424b-e188-289c23e5ba12"
      },
      "outputs": [
        {
          "output_type": "execute_result",
          "data": {
            "text/plain": [
              "<Axes: >"
            ]
          },
          "metadata": {},
          "execution_count": 44
        },
        {
          "output_type": "display_data",
          "data": {
            "text/plain": [
              "<Figure size 640x480 with 2 Axes>"
            ],
            "image/png": "[encoded data removed]"
          },
          "metadata": {}
        }
      ],
      "source": [
        "import seaborn as sns\n",
        "from sklearn.metrics import confusion_matrix\n",
        "a = []\n",
        "Y = []\n",
        "#take test data to visualize in a confusion matrix\n",
        "for batch, (X, y) in enumerate(validt):\n",
        "    a.extend(torch.softmax(model_1(X.to(device)).to(\"cpu\"), dim=1).argmax(dim=1))\n",
        "    Y.extend(y)\n",
        "A = confusion_matrix(Y, a)\n",
        "sns.heatmap(A, cmap=\"Blues\", annot=True, fmt=\"g\")"
      ]
    },
    {
      "cell_type": "code",
      "source": [
        ""
      ],
      "metadata": {
        "id": "sTJvxE98v4OY"
      },
      "execution_count": 26,
      "outputs": []
    }
  ],
  "metadata": {
    "colab": {
      "provenance": [],
      "gpuType": "T4",
      "include_colab_link": true
    },
    "kernelspec": {
      "display_name": "Python 3",
      "name": "python3"
    },
    "language_info": {
      "codemirror_mode": {
        "name": "ipython",
        "version": 3
      },
      "file_extension": ".py",
      "mimetype": "text/x-python",
      "name": "python",
      "nbconvert_exporter": "python",
      "pygments_lexer": "ipython3",
      "version": "3.12.0"
    },
    "accelerator": "GPU"
  },
  "nbformat": 4,
  "nbformat_minor": 0
}