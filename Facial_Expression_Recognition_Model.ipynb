{
  "cells": [
    {
      "cell_type": "markdown",
      "metadata": {
        "id": "view-in-github",
        "colab_type": "text"
      },
      "source": [
        "<a href=\"https://colab.research.google.com/github/Vishwa172107/Facial_Expression_Recognition-using-PyTorch/blob/main/Facial_Expression_Recognition_Model.ipynb\" target=\"_parent\"><img src=\"https://colab.research.google.com/assets/colab-badge.svg\" alt=\"Open In Colab\"/></a>"
      ]
    },
    {
      "cell_type": "markdown",
      "metadata": {
        "id": "lWSYvZAtv67K"
      },
      "source": [
        "\n",
        "# **1. Start by getting some data:**\n",
        "\n",
        "We can use this code to import a dataset from Kaggle\n"
      ]
    },
    {
      "cell_type": "code",
      "execution_count": 1,
      "metadata": {
        "colab": {
          "base_uri": "https://localhost:8080/"
        },
        "id": "2Z3ORnO6glCq",
        "outputId": "332ecaf0-34a0-4e89-85bf-0b6ca668195a",
        "collapsed": true
      },
      "outputs": [
        {
          "output_type": "stream",
          "name": "stdout",
          "text": [
            "Dataset URL: https://www.kaggle.com/datasets/msambare/fer2013\n",
            "License(s): DbCL-1.0\n",
            "Downloading fer2013.zip to /content\n",
            " 96% 58.0M/60.3M [00:00<00:00, 75.4MB/s]\n",
            "100% 60.3M/60.3M [00:00<00:00, 75.7MB/s]\n"
          ]
        }
      ],
      "source": [
        "#this code is to import the dataset from the Kaggle website\n",
        "! kaggle datasets download msambare/fer2013\n",
        "!unzip -q fer2013.zip"
      ]
    },
    {
      "cell_type": "code",
      "execution_count": 2,
      "metadata": {
        "id": "VCSBQPHNzVs5"
      },
      "outputs": [],
      "source": [
        "import torch\n",
        "from torchvision import datasets, transforms\n",
        "from torch.utils.data import DataLoader\n",
        "import torch.nn as nn\n",
        "import matplotlib.pyplot as plt"
      ]
    },
    {
      "cell_type": "code",
      "execution_count": 3,
      "metadata": {
        "id": "cHpKeePbzVs8",
        "colab": {
          "base_uri": "https://localhost:8080/",
          "height": 36
        },
        "outputId": "14902cd9-be67-4be9-9fd6-148dc968a7ba"
      },
      "outputs": [
        {
          "output_type": "execute_result",
          "data": {
            "text/plain": [
              "'cuda'"
            ],
            "application/vnd.google.colaboratory.intrinsic+json": {
              "type": "string"
            }
          },
          "metadata": {},
          "execution_count": 3
        }
      ],
      "source": [
        "#transform for the data... You can also change the size of images using resize\n",
        "#but then we have to change the parameters for our model\n",
        "transform = transforms.Compose([\n",
        "    transforms.ToTensor(),           # Convert images to tensors\n",
        "    transforms.Normalize(mean=[0.485, 0.456, 0.406],  # Normalize image data\n",
        "                         std=[0.229, 0.224, 0.225])\n",
        "])\n",
        "#setup device agnostic code...\n",
        "#This sets the device to \"cuda\" if a GPU is available\n",
        "device = \"cuda\" if torch.cuda.is_available() else \"cpu\"\n",
        "device"
      ]
    },
    {
      "cell_type": "code",
      "execution_count": 5,
      "metadata": {
        "id": "LL3mUtKEzVs9"
      },
      "outputs": [],
      "source": [
        "dataset = datasets.ImageFolder('/content/train', transform=transform)"
      ]
    },
    {
      "cell_type": "code",
      "execution_count": 6,
      "metadata": {
        "id": "YA1yZfmczVtB"
      },
      "outputs": [],
      "source": [
        "dataloader = DataLoader(dataset, batch_size=32, shuffle=True)"
      ]
    },
    {
      "cell_type": "code",
      "execution_count": 7,
      "metadata": {
        "id": "IJ116TNszVtA",
        "colab": {
          "base_uri": "https://localhost:8080/"
        },
        "outputId": "bcb59059-be19-4873-b995-03c5418132ea"
      },
      "outputs": [
        {
          "output_type": "execute_result",
          "data": {
            "text/plain": [
              "['angry', 'disgust', 'fear', 'happy', 'neutral', 'sad', 'surprise']"
            ]
          },
          "metadata": {},
          "execution_count": 7
        }
      ],
      "source": [
        "#The ground truth labels in our dataset\n",
        "dataset.classes"
      ]
    },
    {
      "cell_type": "code",
      "execution_count": 8,
      "metadata": {
        "id": "mpt461w8zVtA",
        "colab": {
          "base_uri": "https://localhost:8080/"
        },
        "outputId": "030ab2a0-0af8-4072-9e42-825becdf9c33"
      },
      "outputs": [
        {
          "output_type": "execute_result",
          "data": {
            "text/plain": [
              "{'angry': 0,\n",
              " 'disgust': 1,\n",
              " 'fear': 2,\n",
              " 'happy': 3,\n",
              " 'neutral': 4,\n",
              " 'sad': 5,\n",
              " 'surprise': 6}"
            ]
          },
          "metadata": {},
          "execution_count": 8
        }
      ],
      "source": [
        "#map of each class to a value\n",
        "dataset.class_to_idx"
      ]
    },
    {
      "cell_type": "code",
      "execution_count": 9,
      "metadata": {
        "id": "5GnxTaAEzVtA",
        "colab": {
          "base_uri": "https://localhost:8080/"
        },
        "outputId": "1dd8257d-d87f-4053-8fa9-cb752eb0e97c"
      },
      "outputs": [
        {
          "output_type": "stream",
          "name": "stdout",
          "text": [
            "3995\n",
            "436\n",
            "4097\n",
            "7215\n",
            "4965\n",
            "4830\n",
            "3171\n"
          ]
        }
      ],
      "source": [
        "#check how many samples we have from each class\n",
        "for i in range(7):\n",
        "    print(dataset.targets.count(i))"
      ]
    },
    {
      "cell_type": "code",
      "execution_count": 11,
      "metadata": {
        "id": "Zn8fwvM-zVs9"
      },
      "outputs": [],
      "source": [
        "#Loading the test and Validarion data\n",
        "dt = datasets.ImageFolder('/content/test', transform=transform)\n",
        "dtt = DataLoader(dt, batch_size=32, shuffle=True)\n",
        "\n",
        "valid = datasets.ImageFolder('/content/test', transform=transform)\n",
        "validt = DataLoader(valid, batch_size=32, shuffle=True)"
      ]
    },
    {
      "cell_type": "code",
      "execution_count": 12,
      "metadata": {
        "id": "JHj102A-Vsu0",
        "colab": {
          "base_uri": "https://localhost:8080/"
        },
        "outputId": "4f784974-e905-470f-b8ac-ca32038b095c"
      },
      "outputs": [
        {
          "output_type": "stream",
          "name": "stdout",
          "text": [
            "Wed Nov  6 05:41:32 2024       \n",
            "+---------------------------------------------------------------------------------------+\n",
            "| NVIDIA-SMI 535.104.05             Driver Version: 535.104.05   CUDA Version: 12.2     |\n",
            "|-----------------------------------------+----------------------+----------------------+\n",
            "| GPU  Name                 Persistence-M | Bus-Id        Disp.A | Volatile Uncorr. ECC |\n",
            "| Fan  Temp   Perf          Pwr:Usage/Cap |         Memory-Usage | GPU-Util  Compute M. |\n",
            "|                                         |                      |               MIG M. |\n",
            "|=========================================+======================+======================|\n",
            "|   0  Tesla T4                       Off | 00000000:00:04.0 Off |                    0 |\n",
            "| N/A   52C    P8              10W /  70W |      3MiB / 15360MiB |      0%      Default |\n",
            "|                                         |                      |                  N/A |\n",
            "+-----------------------------------------+----------------------+----------------------+\n",
            "                                                                                         \n",
            "+---------------------------------------------------------------------------------------+\n",
            "| Processes:                                                                            |\n",
            "|  GPU   GI   CI        PID   Type   Process name                            GPU Memory |\n",
            "|        ID   ID                                                             Usage      |\n",
            "|=======================================================================================|\n",
            "|  No running processes found                                                           |\n",
            "+---------------------------------------------------------------------------------------+\n"
          ]
        }
      ],
      "source": [
        "#shows gpu that we are using... If we have one...\n",
        "!nvidia-smi"
      ]
    },
    {
      "cell_type": "code",
      "execution_count": 13,
      "metadata": {
        "id": "JoN0FqZhzVtB",
        "colab": {
          "base_uri": "https://localhost:8080/"
        },
        "outputId": "25b0c4f4-3a4e-4ef0-f988-eaf7d8235415"
      },
      "outputs": [
        {
          "output_type": "execute_result",
          "data": {
            "text/plain": [
              "torch.Size([32, 3, 48, 48])"
            ]
          },
          "metadata": {},
          "execution_count": 13
        }
      ],
      "source": [
        "for batch in dtt:\n",
        "    images, labels = batch\n",
        "    break\n",
        "images.shape"
      ]
    },
    {
      "cell_type": "code",
      "execution_count": 34,
      "metadata": {
        "id": "DjftXrUmzVtC"
      },
      "outputs": [],
      "source": [
        "class Facial_Expression_ModelV1(nn.Module):\n",
        "    def __init__(self, input_features, output_features):\n",
        "        super().__init__()\n",
        "        #create few Layer Stack, (they can vary in number.) and use functions to implement each layer\n",
        "        self.Stack_1 = nn.Sequential(\n",
        "            nn.Conv2d(input_features, 32, 3, 1, 0),\n",
        "            nn.ReLU(),\n",
        "            nn.Conv2d(32, 64, 3, 1, 0),\n",
        "            nn.ReLU(),\n",
        "            nn.MaxPool2d(2, 1, 0)\n",
        "        )\n",
        "        self.Stack_2 = nn.Sequential(\n",
        "            nn.Conv2d(64, 64, 3, 1, 0),\n",
        "            nn.ReLU(),\n",
        "            nn.Conv2d(64, 32, 3, 2, 0),\n",
        "            nn.ReLU(),\n",
        "            nn.MaxPool2d(2, 1, 0),\n",
        "            nn.Conv2d(32, 3, 3, 1, 0)\n",
        "        )\n",
        "        self.Linearize = nn.Sequential(\n",
        "            nn.Flatten(),\n",
        "            nn.Linear(in_features=867, out_features=7),\n",
        "        )\n",
        "\n",
        "    #override/ Implement the forward() to implement the model\n",
        "    def forward(self, X):\n",
        "        X = self.Stack_1(X)\n",
        "        X = self.Stack_2(X)\n",
        "        X = self.Linearize(X)\n",
        "        return X"
      ]
    },
    {
      "cell_type": "code",
      "execution_count": 35,
      "metadata": {
        "id": "Km3aH_YjzVtC",
        "colab": {
          "base_uri": "https://localhost:8080/"
        },
        "outputId": "8bc22b51-d18f-49fd-98e5-8cafd5f8f72d"
      },
      "outputs": [
        {
          "output_type": "execute_result",
          "data": {
            "text/plain": [
              "Facial_Expression_ModelV1(\n",
              "  (Stack_1): Sequential(\n",
              "    (0): Conv2d(3, 32, kernel_size=(3, 3), stride=(1, 1))\n",
              "    (1): ReLU()\n",
              "    (2): Conv2d(32, 64, kernel_size=(3, 3), stride=(1, 1))\n",
              "    (3): ReLU()\n",
              "    (4): MaxPool2d(kernel_size=2, stride=1, padding=0, dilation=1, ceil_mode=False)\n",
              "  )\n",
              "  (Stack_2): Sequential(\n",
              "    (0): Conv2d(64, 64, kernel_size=(3, 3), stride=(1, 1))\n",
              "    (1): ReLU()\n",
              "    (2): Conv2d(64, 32, kernel_size=(3, 3), stride=(2, 2))\n",
              "    (3): ReLU()\n",
              "    (4): MaxPool2d(kernel_size=2, stride=1, padding=0, dilation=1, ceil_mode=False)\n",
              "    (5): Conv2d(32, 3, kernel_size=(3, 3), stride=(1, 1))\n",
              "  )\n",
              "  (Linearize): Sequential(\n",
              "    (0): Flatten(start_dim=1, end_dim=-1)\n",
              "    (1): Linear(in_features=867, out_features=7, bias=True)\n",
              "  )\n",
              ")"
            ]
          },
          "metadata": {},
          "execution_count": 35
        }
      ],
      "source": [
        "#Create the object of the class that we created and send it to device i.e. \"Device Agnostic Code\"\n",
        "#torch.manual_seed(seed) this is useful to reproduce the same weights each time we run the cell\n",
        "torch.manual_seed(43)\n",
        "\n",
        "#the parameters depend on the image size\n",
        "model_1 = Facial_Expression_ModelV1(3, 7).to(device)\n",
        "\n",
        "model_1"
      ]
    },
    {
      "cell_type": "code",
      "source": [
        "from torchsummary import summary\n",
        "summary(model_1, (3, 48, 48), 32)"
      ],
      "metadata": {
        "id": "3FLXOg4JDkZ8",
        "outputId": "86a28830-b664-49d7-c2f1-46a04466676c",
        "colab": {
          "base_uri": "https://localhost:8080/"
        }
      },
      "execution_count": 36,
      "outputs": [
        {
          "output_type": "stream",
          "name": "stdout",
          "text": [
            "----------------------------------------------------------------\n",
            "        Layer (type)               Output Shape         Param #\n",
            "================================================================\n",
            "            Conv2d-1           [32, 32, 46, 46]             896\n",
            "              ReLU-2           [32, 32, 46, 46]               0\n",
            "            Conv2d-3           [32, 64, 44, 44]          18,496\n",
            "              ReLU-4           [32, 64, 44, 44]               0\n",
            "         MaxPool2d-5           [32, 64, 43, 43]               0\n",
            "            Conv2d-6           [32, 64, 41, 41]          36,928\n",
            "              ReLU-7           [32, 64, 41, 41]               0\n",
            "            Conv2d-8           [32, 32, 20, 20]          18,464\n",
            "              ReLU-9           [32, 32, 20, 20]               0\n",
            "        MaxPool2d-10           [32, 32, 19, 19]               0\n",
            "           Conv2d-11            [32, 3, 17, 17]             867\n",
            "          Flatten-12                  [32, 867]               0\n",
            "           Linear-13                    [32, 7]           6,076\n",
            "================================================================\n",
            "Total params: 81,727\n",
            "Trainable params: 81,727\n",
            "Non-trainable params: 0\n",
            "----------------------------------------------------------------\n",
            "Input size (MB): 0.84\n",
            "Forward/backward pass size (MB): 184.48\n",
            "Params size (MB): 0.31\n",
            "Estimated Total Size (MB): 185.64\n",
            "----------------------------------------------------------------\n"
          ]
        }
      ]
    },
    {
      "cell_type": "code",
      "execution_count": 37,
      "metadata": {
        "id": "lugUs1RdzVtC",
        "colab": {
          "base_uri": "https://localhost:8080/"
        },
        "outputId": "d6ce32a0-400e-4fff-e106-105905041f28"
      },
      "outputs": [
        {
          "output_type": "execute_result",
          "data": {
            "text/plain": [
              "torch.Size([32, 3, 48, 48])"
            ]
          },
          "metadata": {},
          "execution_count": 37
        }
      ],
      "source": [
        "#check the shape of a Single batch of images\n",
        "images.shape"
      ]
    },
    {
      "cell_type": "code",
      "execution_count": 38,
      "metadata": {
        "id": "Iw4fMxchRs34"
      },
      "outputs": [],
      "source": [
        "#sending the data to device to avoid Device errors\n",
        "A = images.to(device)\n",
        "A.device\n",
        "labels = labels.to(device)"
      ]
    },
    {
      "cell_type": "code",
      "execution_count": 39,
      "metadata": {
        "id": "e4q_wdckzVtD",
        "colab": {
          "base_uri": "https://localhost:8080/"
        },
        "outputId": "b4b6e6d8-1925-4ccb-d993-3554b07f3185"
      },
      "outputs": [
        {
          "output_type": "execute_result",
          "data": {
            "text/plain": [
              "torch.Size([32, 6912])"
            ]
          },
          "metadata": {},
          "execution_count": 39
        }
      ],
      "source": [
        "#this flattens i.e. converts n-dim tansor into a 1-dim vector\n",
        "nn.Flatten()(images).shape"
      ]
    },
    {
      "cell_type": "code",
      "execution_count": 40,
      "metadata": {
        "id": "gsu_iEHwzVtD",
        "colab": {
          "base_uri": "https://localhost:8080/"
        },
        "outputId": "ece25499-bfed-402e-ef43-2642012707ba"
      },
      "outputs": [
        {
          "output_type": "execute_result",
          "data": {
            "text/plain": [
              "tensor([False, False, False, False, False,  True, False, False, False, False,\n",
              "        False, False, False, False,  True, False, False, False, False, False,\n",
              "        False,  True, False, False, False, False, False, False, False,  True,\n",
              "         True, False], device='cuda:0')"
            ]
          },
          "metadata": {},
          "execution_count": 40
        }
      ],
      "source": [
        "#pass a single batch to see if the model works the way we want it to\n",
        "A = model_1(A)\n",
        "A = torch.softmax(A, dim=1).argmax(dim=1)\n",
        "A==labels"
      ]
    },
    {
      "cell_type": "code",
      "execution_count": 41,
      "metadata": {
        "id": "BP4D6Lm2zVtD"
      },
      "outputs": [],
      "source": [
        "#Choose a Loss Function to check \"How wrong your Model is...\"\n",
        "loss_fn = nn.CrossEntropyLoss()\n",
        "\n",
        "#Choose a Optimizer function to update the weights after each epoch...\n",
        "#Note that setting the Learning_Rate (lr) too high could result in NaN errors\n",
        "optimizer = torch.optim.SGD(model_1.parameters(), lr=0.01)"
      ]
    },
    {
      "cell_type": "code",
      "execution_count": 42,
      "metadata": {
        "id": "BkA12nMmzVtD",
        "colab": {
          "base_uri": "https://localhost:8080/"
        },
        "outputId": "766f1264-bf24-4a77-c5ca-d46cb096328e"
      },
      "outputs": [
        {
          "output_type": "stream",
          "name": "stdout",
          "text": [
            "898\n"
          ]
        }
      ],
      "source": [
        "print(len(dataloader))"
      ]
    },
    {
      "cell_type": "code",
      "execution_count": 43,
      "metadata": {
        "id": "3QDneKeYUfIP"
      },
      "outputs": [],
      "source": [
        "#custom function to calculate the accuracy based on the Prediction and Ground Truths\n",
        "def accuracy_fn(y_true, y_pred):\n",
        "    \"\"\"Calculates accuracy between truth labels and predictions.\n",
        "\n",
        "    Args:\n",
        "        y_true (torch.Tensor): Truth labels for predictions.\n",
        "        y_pred (torch.Tensor): Predictions to be compared to predictions.\n",
        "\n",
        "    Returns:\n",
        "        [torch.float]: Accuracy value between y_true and y_pred, e.g. 78.45\n",
        "    \"\"\"\n",
        "    correct = torch.eq(y_true, y_pred).sum().item()\n",
        "    acc = (correct / len(y_pred)) * 100\n",
        "    return acc"
      ]
    },
    {
      "cell_type": "code",
      "execution_count": 44,
      "metadata": {
        "id": "0zGAVJcizVtD"
      },
      "outputs": [],
      "source": [
        "#A function to pass a single batch of Training set images to the Neural Network Model\n",
        "def train_loop(X, y, Batch):\n",
        "    #set the model to Training mode\n",
        "    model_1.train()\n",
        "\n",
        "    #forward pass\n",
        "    preds = model_1(X)\n",
        "\n",
        "    #calculate the loss\n",
        "    loss = loss_fn(preds, y)\n",
        "    y_preds = torch.softmax(preds, dim=1).argmax(dim=1)\n",
        "    acc = accuracy_fn(y, y_preds)\n",
        "\n",
        "    #optimizer reset the Gradients\n",
        "    optimizer.zero_grad()\n",
        "\n",
        "    #BackPropogation\n",
        "    loss.backward()\n",
        "\n",
        "    #updating the weights\n",
        "    optimizer.step()\n",
        "\n",
        "    #print for every 1000th batch\n",
        "    # if Batch%1000==0:\n",
        "    #     print(f\"Training {Batch}... Loss:{loss:.4f}, accuracy:{acc:.2f}\")\n",
        "    return (acc, loss)"
      ]
    },
    {
      "cell_type": "code",
      "execution_count": 45,
      "metadata": {
        "id": "hE2yQxyCzVtE"
      },
      "outputs": [],
      "source": [
        "#A function to pass a single batch of Validation data to check the model accuracy after each epoch of Training set\n",
        "def test_loop(X, y, Batch):\n",
        "    #set the model to test/eval mode\n",
        "    model_1.eval()\n",
        "\n",
        "    #use torch.inference_mode() for enhanced performance\n",
        "    with torch.inference_mode():\n",
        "        #pass the data\n",
        "        preds = model_1(X)\n",
        "        #calculate the loss\n",
        "        loss = loss_fn(preds, y)\n",
        "        y_preds  =torch.softmax(preds, dim=1).argmax(dim=1)\n",
        "        acc = accuracy_fn(y, y_preds)\n",
        "\n",
        "    # if Batch%200==0:\n",
        "    #     print(f\"Testing {Batch}... Loss:{loss:.4f}, accuracy:{acc:.2f}\")\n",
        "    return (acc, loss)"
      ]
    },
    {
      "cell_type": "code",
      "execution_count": 52,
      "metadata": {
        "id": "bdNK9uIuzVtE",
        "colab": {
          "base_uri": "https://localhost:8080/"
        },
        "outputId": "93ed726e-3bd1-4159-9526-55d1db55d80d"
      },
      "outputs": [
        {
          "output_type": "stream",
          "name": "stdout",
          "text": [
            "Epoch no.:0\n",
            "Average Metrics...\n",
            "Train_loss:1.1565 | Train_acc:56.22 | Validate_loss:1.2926 | Validate_acc:51.64\n",
            "Epoch no.:1\n",
            "Average Metrics...\n",
            "Train_loss:1.1431 | Train_acc:56.62 | Validate_loss:1.4330 | Validate_acc:46.50\n",
            "Epoch no.:2\n",
            "Average Metrics...\n",
            "Train_loss:1.1267 | Train_acc:57.37 | Validate_loss:1.3499 | Validate_acc:48.67\n",
            "Epoch no.:3\n",
            "Average Metrics...\n",
            "Train_loss:1.1105 | Train_acc:58.02 | Validate_loss:1.3130 | Validate_acc:50.82\n",
            "Epoch no.:4\n",
            "Average Metrics...\n",
            "Train_loss:1.0906 | Train_acc:58.79 | Validate_loss:1.2904 | Validate_acc:51.66\n",
            "Epoch no.:5\n",
            "Average Metrics...\n",
            "Train_loss:1.0748 | Train_acc:59.48 | Validate_loss:1.3854 | Validate_acc:49.86\n",
            "Epoch no.:6\n",
            "Average Metrics...\n",
            "Train_loss:1.0591 | Train_acc:60.04 | Validate_loss:1.3848 | Validate_acc:47.64\n",
            "Epoch no.:7\n",
            "Average Metrics...\n",
            "Train_loss:1.0399 | Train_acc:60.82 | Validate_loss:1.3182 | Validate_acc:52.37\n",
            "Epoch no.:8\n",
            "Average Metrics...\n",
            "Train_loss:1.0199 | Train_acc:61.52 | Validate_loss:1.3255 | Validate_acc:51.22\n",
            "Epoch no.:9\n",
            "Average Metrics...\n",
            "Train_loss:1.0019 | Train_acc:62.54 | Validate_loss:1.4641 | Validate_acc:46.30\n"
          ]
        }
      ],
      "source": [
        "#change the no of epochs for improving your model accuracy by training it longer\n",
        "epochs = 10\n",
        "for epoch in range(epochs):\n",
        "    print(f\"Epoch no.:{epoch}\")\n",
        "    Train_loss, Train_acc = 0., 0.\n",
        "    Validation_loss, Validation_acc = 0., 0.\n",
        "    for batch, (X,y) in enumerate(dataloader):\n",
        "        X = X.to(device)\n",
        "        y = y.to(device)\n",
        "        a, l = train_loop(X, y, batch)\n",
        "        Train_acc += a\n",
        "        Train_loss += l\n",
        "    Train_acc /= len(dataloader)\n",
        "    Train_loss /= len(dataloader)\n",
        "    for batch, (X, y) in enumerate(validt):\n",
        "        X = X.to(device)\n",
        "        y = y.to(device)\n",
        "        ta, tl = test_loop(X, y, batch)\n",
        "        Validation_acc += ta\n",
        "        Validation_loss += tl\n",
        "    Validation_loss /= len(validt)\n",
        "    Validation_acc /= len(validt)\n",
        "\n",
        "    print(f\"Average Metrics...\\nTrain_loss:{Train_loss:.4f} | Train_acc:{Train_acc:.2f} | Validate_loss:{Validation_loss:.4f} | Validate_acc:{Validation_acc:.2f}\")"
      ]
    },
    {
      "cell_type": "code",
      "execution_count": 53,
      "metadata": {
        "id": "OvYi3suHS-Uq",
        "colab": {
          "base_uri": "https://localhost:8080/"
        },
        "outputId": "6052b1e5-1e25-4e00-f672-9ed3bf9f1183"
      },
      "outputs": [
        {
          "output_type": "stream",
          "name": "stdout",
          "text": [
            "Testing... Loss:1.4637, accuracy:46.45\n"
          ]
        }
      ],
      "source": [
        "#Test the model with the Test data\n",
        "Test_acc, Test_loss = 0., 0.\n",
        "for batch, (X, y) in enumerate(dtt):\n",
        "    X = X.to(device)\n",
        "    y = y.to(device)\n",
        "    ta, tl = test_loop(X, y, batch)\n",
        "    Test_acc += ta\n",
        "    Test_loss += tl\n",
        "Test_loss /= len(dtt)\n",
        "Test_acc /= len(dtt)\n",
        "\n",
        "print(f\"Testing... Loss:{Test_loss:.4f}, accuracy:{Test_acc:.2f}\")"
      ]
    },
    {
      "cell_type": "code",
      "execution_count": 54,
      "metadata": {
        "id": "nd2Wgidz7Vhl",
        "colab": {
          "base_uri": "https://localhost:8080/",
          "height": 447
        },
        "outputId": "3dabd440-59ef-4a95-ebd2-5608dddf656c"
      },
      "outputs": [
        {
          "output_type": "execute_result",
          "data": {
            "text/plain": [
              "<Axes: >"
            ]
          },
          "metadata": {},
          "execution_count": 54
        },
        {
          "output_type": "display_data",
          "data": {
            "text/plain": [
              "<Figure size 640x480 with 2 Axes>"
            ],
            "image/png": "[encoded data removed]"
          },
          "metadata": {}
        }
      ],
      "source": [
        "import seaborn as sns\n",
        "from sklearn.metrics import confusion_matrix\n",
        "a = []\n",
        "Y = []\n",
        "#take test data to visualize in a confusion matrix\n",
        "for batch, (X, y) in enumerate(validt):\n",
        "    a.extend(torch.softmax(model_1(X.to(device)).to(\"cpu\"), dim=1).argmax(dim=1))\n",
        "    Y.extend(y)\n",
        "A = confusion_matrix(Y, a)\n",
        "sns.heatmap(A, cmap=\"Blues\", annot=True, fmt=\"g\")"
      ]
    },
    {
      "cell_type": "code",
      "source": [],
      "metadata": {
        "id": "sTJvxE98v4OY"
      },
      "execution_count": 48,
      "outputs": []
    }
  ],
  "metadata": {
    "colab": {
      "provenance": [],
      "gpuType": "T4",
      "include_colab_link": true
    },
    "kernelspec": {
      "display_name": "Python 3",
      "name": "python3"
    },
    "language_info": {
      "codemirror_mode": {
        "name": "ipython",
        "version": 3
      },
      "file_extension": ".py",
      "mimetype": "text/x-python",
      "name": "python",
      "nbconvert_exporter": "python",
      "pygments_lexer": "ipython3",
      "version": "3.12.0"
    },
    "accelerator": "GPU"
  },
  "nbformat": 4,
  "nbformat_minor": 0
}