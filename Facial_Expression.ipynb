{
 "cells": [
  {
   "cell_type": "code",
   "execution_count": 89,
   "metadata": {},
   "outputs": [],
   "source": [
    "import torch\n",
    "from torchvision import datasets, transforms\n",
    "from torch.utils.data import DataLoader\n",
    "import torch.nn as nn\n",
    "import matplotlib.pyplot as plt"
   ]
  },
  {
   "cell_type": "code",
   "execution_count": 90,
   "metadata": {},
   "outputs": [],
   "source": [
    "device = \"cuda\" if torch.cuda.is_available() else \"cpu\""
   ]
  },
  {
   "cell_type": "code",
   "execution_count": 91,
   "metadata": {},
   "outputs": [],
   "source": [
    "transform = transforms.Compose([\n",
    "    #transforms.Resize((224, 224)),  # Resize images to a consistent size\n",
    "    transforms.ToTensor(),           # Convert images to tensors\n",
    "    transforms.Normalize(mean=[0.485, 0.456, 0.406],  # Normalize image data\n",
    "                         std=[0.229, 0.224, 0.225])\n",
    "])"
   ]
  },
  {
   "cell_type": "code",
   "execution_count": 92,
   "metadata": {},
   "outputs": [],
   "source": [
    "dataset = datasets.ImageFolder('D:/Projects/Python Projects/DL/PyTorch/Facial_Expression_Dataset/MMAFEDB/train/', transform=transform)"
   ]
  },
  {
   "cell_type": "code",
   "execution_count": 93,
   "metadata": {},
   "outputs": [
    {
     "data": {
      "text/plain": [
       "<torch.utils.data.dataloader.DataLoader at 0x1f1187e3b90>"
      ]
     },
     "execution_count": 93,
     "metadata": {},
     "output_type": "execute_result"
    }
   ],
   "source": [
    "dt = datasets.ImageFolder('D:/Projects/Python Projects/DL/PyTorch/Facial_Expression_Dataset/MMAFEDB/test/', transform=transform)\n",
    "dtt = DataLoader(dt, batch_size=32, shuffle=True)\n",
    "\n",
    "dtt"
   ]
  },
  {
   "cell_type": "code",
   "execution_count": null,
   "metadata": {},
   "outputs": [],
   "source": [
    "valid = datasets.ImageFolder('D:/Projects/Python Projects/DL/PyTorch/Facial_Expression_Dataset/MMAFEDB/test/', transform=transform)\n",
    "validtd = DataLoader(dt, batch_size=32, shuffle=True)"
   ]
  },
  {
   "cell_type": "code",
   "execution_count": 94,
   "metadata": {},
   "outputs": [
    {
     "data": {
      "text/plain": [
       "Dataset ImageFolder\n",
       "    Number of datapoints: 92968\n",
       "    Root location: D:/Projects/Python Projects/DL/PyTorch/Facial_Expression_Dataset/MMAFEDB/train/\n",
       "    StandardTransform\n",
       "Transform: Compose(\n",
       "               ToTensor()\n",
       "               Normalize(mean=[0.485, 0.456, 0.406], std=[0.229, 0.224, 0.225])\n",
       "           )"
      ]
     },
     "execution_count": 94,
     "metadata": {},
     "output_type": "execute_result"
    }
   ],
   "source": [
    "dataset"
   ]
  },
  {
   "cell_type": "code",
   "execution_count": 95,
   "metadata": {},
   "outputs": [
    {
     "data": {
      "text/plain": [
       "['angry', 'disgust', 'fear', 'happy', 'neutral', 'sad', 'surprise']"
      ]
     },
     "execution_count": 95,
     "metadata": {},
     "output_type": "execute_result"
    }
   ],
   "source": [
    "dataset.classes"
   ]
  },
  {
   "cell_type": "code",
   "execution_count": 96,
   "metadata": {},
   "outputs": [
    {
     "data": {
      "text/plain": [
       "{'angry': 0,\n",
       " 'disgust': 1,\n",
       " 'fear': 2,\n",
       " 'happy': 3,\n",
       " 'neutral': 4,\n",
       " 'sad': 5,\n",
       " 'surprise': 6}"
      ]
     },
     "execution_count": 96,
     "metadata": {},
     "output_type": "execute_result"
    }
   ],
   "source": [
    "dataset.class_to_idx"
   ]
  },
  {
   "cell_type": "code",
   "execution_count": 97,
   "metadata": {},
   "outputs": [
    {
     "name": "stdout",
     "output_type": "stream",
     "text": [
      "6566\n",
      "3231\n",
      "4859\n",
      "28592\n",
      "29384\n",
      "12223\n",
      "8113\n"
     ]
    }
   ],
   "source": [
    "for i in range(7):\n",
    "    print(dataset.targets.count(i))"
   ]
  },
  {
   "cell_type": "code",
   "execution_count": 98,
   "metadata": {},
   "outputs": [],
   "source": [
    "dataloader = DataLoader(dataset, batch_size=32, shuffle=True)"
   ]
  },
  {
   "cell_type": "code",
   "execution_count": 99,
   "metadata": {},
   "outputs": [
    {
     "data": {
      "text/plain": [
       "<torch.utils.data.dataloader.DataLoader at 0x1f1231e6930>"
      ]
     },
     "execution_count": 99,
     "metadata": {},
     "output_type": "execute_result"
    }
   ],
   "source": [
    "dataloader"
   ]
  },
  {
   "cell_type": "code",
   "execution_count": 100,
   "metadata": {},
   "outputs": [
    {
     "data": {
      "text/plain": [
       "torch.Size([32, 3, 48, 48])"
      ]
     },
     "execution_count": 100,
     "metadata": {},
     "output_type": "execute_result"
    }
   ],
   "source": [
    "for batch in dtt:\n",
    "    images, labels = batch\n",
    "    break\n",
    "images.shape"
   ]
  },
  {
   "cell_type": "code",
   "execution_count": 101,
   "metadata": {},
   "outputs": [],
   "source": [
    "class Facial_Expression_ModelV1(nn.Module):\n",
    "    def __init__(self, input_features, hidden, output_features, n):\n",
    "        super().__init__()\n",
    "        self.Stack_1 = nn.Sequential(\n",
    "            # nn.Flatten(start_dim=2),\n",
    "            nn.Conv2d(input_features, hidden, 3, 1, 1),\n",
    "            nn.ReLU(),\n",
    "            nn.Conv2d(hidden, hidden, 3, 1, 1),\n",
    "            nn.ReLU(),\n",
    "            nn.MaxPool2d(2, 1, 0)\n",
    "        )\n",
    "        self.Stack_2 = nn.Sequential(\n",
    "            nn.Conv2d(hidden, hidden, 3, 1, 1),\n",
    "            nn.ReLU(),\n",
    "            nn.Conv2d(hidden, hidden, 3, 1, 1),\n",
    "            nn.ReLU(),\n",
    "            nn.MaxPool2d(2, 1, 0),\n",
    "            nn.Conv2d(hidden, output_features, 3, 1, 1)\n",
    "        )\n",
    "        self.Linearize = nn.Sequential(\n",
    "            nn.Flatten(),\n",
    "            nn.Linear(in_features=n, out_features=7)\n",
    "        )\n",
    "\n",
    "    def forward(self, X):\n",
    "        X = self.Stack_1(X)\n",
    "        X = self.Stack_2(X)\n",
    "        X = self.Linearize(X)\n",
    "        return X"
   ]
  },
  {
   "cell_type": "code",
   "execution_count": 102,
   "metadata": {},
   "outputs": [
    {
     "data": {
      "text/plain": [
       "Facial_Expression_ModelV1(\n",
       "  (Stack_1): Sequential(\n",
       "    (0): Conv2d(3, 120, kernel_size=(3, 3), stride=(1, 1), padding=(1, 1))\n",
       "    (1): ReLU()\n",
       "    (2): Conv2d(120, 120, kernel_size=(3, 3), stride=(1, 1), padding=(1, 1))\n",
       "    (3): ReLU()\n",
       "    (4): MaxPool2d(kernel_size=2, stride=1, padding=0, dilation=1, ceil_mode=False)\n",
       "  )\n",
       "  (Stack_2): Sequential(\n",
       "    (0): Conv2d(120, 120, kernel_size=(3, 3), stride=(1, 1), padding=(1, 1))\n",
       "    (1): ReLU()\n",
       "    (2): Conv2d(120, 120, kernel_size=(3, 3), stride=(1, 1), padding=(1, 1))\n",
       "    (3): ReLU()\n",
       "    (4): MaxPool2d(kernel_size=2, stride=1, padding=0, dilation=1, ceil_mode=False)\n",
       "    (5): Conv2d(120, 7, kernel_size=(3, 3), stride=(1, 1), padding=(1, 1))\n",
       "  )\n",
       "  (Linearize): Sequential(\n",
       "    (0): Flatten(start_dim=1, end_dim=-1)\n",
       "    (1): Linear(in_features=14812, out_features=7, bias=True)\n",
       "  )\n",
       ")"
      ]
     },
     "execution_count": 102,
     "metadata": {},
     "output_type": "execute_result"
    }
   ],
   "source": [
    "model_1 = Facial_Expression_ModelV1(3, 120, 7, 7*46*46)\n",
    "\n",
    "model_1"
   ]
  },
  {
   "cell_type": "code",
   "execution_count": 103,
   "metadata": {},
   "outputs": [
    {
     "data": {
      "text/plain": [
       "torch.Size([32, 3, 48, 48])"
      ]
     },
     "execution_count": 103,
     "metadata": {},
     "output_type": "execute_result"
    }
   ],
   "source": [
    "images.shape"
   ]
  },
  {
   "cell_type": "code",
   "execution_count": 104,
   "metadata": {},
   "outputs": [
    {
     "data": {
      "text/plain": [
       "torch.Size([32, 6912])"
      ]
     },
     "execution_count": 104,
     "metadata": {},
     "output_type": "execute_result"
    }
   ],
   "source": [
    "nn.Flatten()(images).shape"
   ]
  },
  {
   "cell_type": "code",
   "execution_count": 105,
   "metadata": {},
   "outputs": [
    {
     "data": {
      "text/plain": [
       "tensor([ True, False, False,  True, False, False, False, False, False, False,\n",
       "        False,  True, False,  True, False, False,  True,  True, False, False,\n",
       "        False, False, False, False, False, False, False, False, False, False,\n",
       "        False,  True])"
      ]
     },
     "execution_count": 105,
     "metadata": {},
     "output_type": "execute_result"
    }
   ],
   "source": [
    "A = model_1(images)\n",
    "A = torch.softmax(A, dim=1).argmax(dim=1)\n",
    "A==labels"
   ]
  },
  {
   "cell_type": "code",
   "execution_count": 106,
   "metadata": {},
   "outputs": [],
   "source": [
    "loss_fn = nn.CrossEntropyLoss()\n",
    "optimizer = torch.optim.SGD(model_1.parameters(), lr=0.05)"
   ]
  },
  {
   "cell_type": "code",
   "execution_count": 107,
   "metadata": {},
   "outputs": [
    {
     "name": "stdout",
     "output_type": "stream",
     "text": [
      "2906\n"
     ]
    }
   ],
   "source": [
    "print(len(dataloader))"
   ]
  },
  {
   "cell_type": "code",
   "execution_count": 108,
   "metadata": {},
   "outputs": [],
   "source": [
    "def train_loop(X, y, Batch):\n",
    "    model_1.train()\n",
    "    preds = model_1(X)\n",
    "    loss = loss_fn(preds, y)\n",
    "    y_preds = torch.softmax(preds, dim=1).argmax(dim=1)\n",
    "    accuracy = ((y_preds == y).sum().item() / len(y)) * 100\n",
    "    optimizer.zero_grad()\n",
    "    loss.backward()\n",
    "    optimizer.step()\n",
    "\n",
    "    if Batch%100==0:\n",
    "        print(f\"Training {Batch}... Loss:{loss:.4f}, accuracy:{accuracy}\")\n",
    "    return (accuracy, loss)"
   ]
  },
  {
   "cell_type": "code",
   "execution_count": 109,
   "metadata": {},
   "outputs": [],
   "source": [
    "def test_loop(X, y, Batch):\n",
    "    model_1.eval()\n",
    "    with torch.inference_mode():\n",
    "        preds = model_1(X)\n",
    "        loss = loss_fn(preds, y)\n",
    "        y_preds  =torch.softmax(preds, dim=1).argmax(dim=1)\n",
    "        accuracy = ((y_preds == y).sum().item() / len(y)) * 100\n",
    "\n",
    "    if Batch%100==0:\n",
    "        print(f\"Testing {Batch}... Loss:{loss:.4f}, accuracy:{accuracy}\")\n",
    "    return accuracy, loss"
   ]
  },
  {
   "cell_type": "code",
   "execution_count": 110,
   "metadata": {},
   "outputs": [
    {
     "name": "stdout",
     "output_type": "stream",
     "text": [
      "Epoch no.:0\n",
      "Training 0... Loss:1.9442, accuracy:40.625\n",
      "Training 100... Loss:1.5082, accuracy:43.75\n",
      "Training 200... Loss:2.0655, accuracy:15.625\n",
      "Training 300... Loss:1.7435, accuracy:28.125\n",
      "Training 400... Loss:2.3574, accuracy:21.875\n",
      "Training 500... Loss:1.5224, accuracy:37.5\n",
      "Training 600... Loss:1.5468, accuracy:37.5\n",
      "Training 700... Loss:1.4046, accuracy:50.0\n",
      "Training 800... Loss:1.2951, accuracy:62.5\n",
      "Training 900... Loss:1.4906, accuracy:43.75\n",
      "Training 1000... Loss:1.2640, accuracy:56.25\n",
      "Training 1100... Loss:1.4033, accuracy:53.125\n",
      "Training 1200... Loss:1.2890, accuracy:46.875\n",
      "Training 1300... Loss:1.4171, accuracy:43.75\n",
      "Training 1400... Loss:1.3500, accuracy:53.125\n",
      "Training 1500... Loss:1.4745, accuracy:43.75\n",
      "Training 1600... Loss:1.1927, accuracy:68.75\n",
      "Training 1700... Loss:1.1146, accuracy:62.5\n",
      "Training 1800... Loss:1.1712, accuracy:59.375\n",
      "Training 1900... Loss:1.1078, accuracy:56.25\n",
      "Training 2000... Loss:1.1135, accuracy:62.5\n",
      "Training 2100... Loss:0.9674, accuracy:71.875\n",
      "Training 2200... Loss:1.3157, accuracy:56.25\n",
      "Training 2300... Loss:1.3031, accuracy:46.875\n",
      "Training 2400... Loss:0.9443, accuracy:56.25\n",
      "Training 2500... Loss:1.6039, accuracy:43.75\n",
      "Training 2600... Loss:1.0524, accuracy:56.25\n",
      "Training 2700... Loss:1.1104, accuracy:62.5\n",
      "Training 2800... Loss:1.0483, accuracy:65.625\n",
      "Training 2900... Loss:1.4028, accuracy:46.875\n"
     ]
    },
    {
     "ename": "NameError",
     "evalue": "name 'validt' is not defined",
     "output_type": "error",
     "traceback": [
      "\u001b[1;31m---------------------------------------------------------------------------\u001b[0m",
      "\u001b[1;31mNameError\u001b[0m                                 Traceback (most recent call last)",
      "Cell \u001b[1;32mIn[110], line 14\u001b[0m\n\u001b[0;32m     12\u001b[0m Train_acc \u001b[38;5;241m/\u001b[39m\u001b[38;5;241m=\u001b[39m \u001b[38;5;28mlen\u001b[39m(dataloader)\n\u001b[0;32m     13\u001b[0m Train_loss \u001b[38;5;241m/\u001b[39m\u001b[38;5;241m=\u001b[39m \u001b[38;5;28mlen\u001b[39m(dataloader)\n\u001b[1;32m---> 14\u001b[0m \u001b[38;5;28;01mfor\u001b[39;00m batch, (X, y) \u001b[38;5;129;01min\u001b[39;00m \u001b[38;5;28menumerate\u001b[39m(\u001b[43mvalidt\u001b[49m):\n\u001b[0;32m     15\u001b[0m     X \u001b[38;5;241m=\u001b[39m X\u001b[38;5;241m.\u001b[39mto(device)\n\u001b[0;32m     16\u001b[0m     y \u001b[38;5;241m=\u001b[39m y\u001b[38;5;241m.\u001b[39mto(device)\n",
      "\u001b[1;31mNameError\u001b[0m: name 'validt' is not defined"
     ]
    }
   ],
   "source": [
    "epochs = 10\n",
    "for epoch in range(epochs):\n",
    "    print(f\"Epoch no.:{epoch}\")\n",
    "    Train_loss, Train_acc = 0., 0.\n",
    "    Validation_loss, Validation_acc = 0., 0.\n",
    "    for batch, (X,y) in enumerate(dataloader):\n",
    "        X = X.to(device)\n",
    "        y = y.to(device)\n",
    "        a, l = train_loop(X, y, batch)\n",
    "        Train_acc += a\n",
    "        Train_loss += l\n",
    "    Train_acc /= len(dataloader)\n",
    "    Train_loss /= len(dataloader)\n",
    "    for batch, (X, y) in enumerate(validt):\n",
    "        X = X.to(device)\n",
    "        y = y.to(device)\n",
    "        ta, tl = test_loop(X, y, batch)\n",
    "        Validation_acc += ta\n",
    "        Validation_loss += tl\n",
    "    Validation_loss /= len(validt)\n",
    "    Validation_acc /= len(validt)\n",
    "\n",
    "    print(f\"Average Metrics...\\nTrain_loss:{Train_loss:.4f} | Train_acc:{Train_acc:.2f} | Validate_loss:{Validation_loss:.4f} | Validate_acc:{Validation_acc:.2f}\")3"
   ]
  },
  {
   "cell_type": "code",
   "execution_count": null,
   "metadata": {},
   "outputs": [],
   "source": [
    "for batch, (X, y) in enumerate(dtt):\n",
    "    Test_acc, Test_loss = 0., 0.\n",
    "    \n",
    "    X = X.to(device)\n",
    "    y = y.to(device)\n",
    "    ta, tl = test_loop(X, y, batch)\n",
    "    Test_acc += ta\n",
    "    Test_loss += tl\n",
    "    Test_loss /= len(dtt)\n",
    "    Test_acc /= len(dtt)\n",
    "\n",
    "print(f\"Testing... Loss:{Test_loss:.4f}, accuracy:{Test_acc:.2f}\")"
   ]
  },
  {
   "cell_type": "code",
   "execution_count": null,
   "metadata": {},
   "outputs": [],
   "source": []
  }
 ],
 "metadata": {
  "kernelspec": {
   "display_name": "Python 3",
   "language": "python",
   "name": "python3"
  },
  "language_info": {
   "codemirror_mode": {
    "name": "ipython",
    "version": 3
   },
   "file_extension": ".py",
   "mimetype": "text/x-python",
   "name": "python",
   "nbconvert_exporter": "python",
   "pygments_lexer": "ipython3",
   "version": "3.12.0"
  }
 },
 "nbformat": 4,
 "nbformat_minor": 2
}
